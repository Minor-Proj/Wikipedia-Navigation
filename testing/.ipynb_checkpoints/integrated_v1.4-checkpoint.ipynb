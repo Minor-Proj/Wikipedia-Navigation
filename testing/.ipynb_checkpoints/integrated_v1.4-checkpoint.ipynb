{
 "cells": [
  {
   "cell_type": "code",
   "execution_count": 22,
   "id": "723a32ee",
   "metadata": {},
   "outputs": [],
   "source": [
    "import pyttsx3"
   ]
  },
  {
   "cell_type": "code",
   "execution_count": 23,
   "id": "a514f837",
   "metadata": {},
   "outputs": [],
   "source": [
    "# text to speech\n",
    "engine = pyttsx3.init('sapi5')\n",
    "voices = engine.getProperty('voices')\n",
    "engine.setProperty('voices',voices[0].id)\n",
    "\n",
    "def speak(text):\n",
    "    engine.say(text)\n",
    "    print(text)\n",
    "    engine.runAndWait()"
   ]
  },
  {
   "cell_type": "code",
   "execution_count": 24,
   "id": "80a898db",
   "metadata": {},
   "outputs": [
    {
     "name": "stdout",
     "output_type": "stream",
     "text": [
      "hello sukaran\n"
     ]
    }
   ],
   "source": [
    "speak(\"hello sukaran\")"
   ]
  },
  {
   "cell_type": "code",
   "execution_count": null,
   "id": "fd50fe77",
   "metadata": {},
   "outputs": [],
   "source": []
  },
  {
   "cell_type": "code",
   "execution_count": null,
   "id": "63e85b90",
   "metadata": {},
   "outputs": [],
   "source": []
  },
  {
   "cell_type": "markdown",
   "id": "a7f6032d",
   "metadata": {},
   "source": [
    "## introduction"
   ]
  },
  {
   "cell_type": "code",
   "execution_count": 25,
   "id": "80d44735",
   "metadata": {},
   "outputs": [],
   "source": [
    "import datetime\n",
    "\n",
    "def wish():\n",
    "    hour = int(datetime.datetime.now().hour)\n",
    "\n",
    "    if hour >= 6 and hour <= 12:\n",
    "        speak(\"Good morning\")\n",
    "    elif hour > 12 and hour < 18:\n",
    "        speak(\"Good afternoon\")\n",
    "    else:\n",
    "        speak(\"Good evening\")\n",
    "    \n",
    "    speak(\"I am your wikipedia assistant, what do you want to search\")"
   ]
  },
  {
   "cell_type": "code",
   "execution_count": 26,
   "id": "a192ec68",
   "metadata": {},
   "outputs": [
    {
     "name": "stdout",
     "output_type": "stream",
     "text": [
      "Good evening\n",
      "I am your wikipedia assistant, what do you want to search\n"
     ]
    }
   ],
   "source": [
    "wish()"
   ]
  },
  {
   "cell_type": "code",
   "execution_count": null,
   "id": "20763b6b",
   "metadata": {},
   "outputs": [],
   "source": []
  },
  {
   "cell_type": "code",
   "execution_count": null,
   "id": "ffc8c3d7",
   "metadata": {},
   "outputs": [],
   "source": []
  },
  {
   "cell_type": "markdown",
   "id": "67808fca",
   "metadata": {},
   "source": [
    "## speech recognition"
   ]
  },
  {
   "cell_type": "code",
   "execution_count": 27,
   "id": "aeb0bb83",
   "metadata": {},
   "outputs": [],
   "source": [
    "import speech_recognition as sr"
   ]
  },
  {
   "cell_type": "code",
   "execution_count": 28,
   "id": "ab80c3ba",
   "metadata": {},
   "outputs": [],
   "source": [
    "from pygame import mixer\n",
    "mixer.init()"
   ]
  },
  {
   "cell_type": "code",
   "execution_count": 29,
   "id": "0a30f4c8",
   "metadata": {},
   "outputs": [],
   "source": [
    "def takecommand():\n",
    "    r = sr.Recognizer()\n",
    "    with sr.Microphone() as source:\n",
    "        r.adjust_for_ambient_noise(source,duration=1)\n",
    "\n",
    "        mixer.music.load('../sounds/listen_sound.mp3')  \n",
    "        mixer.music.play()\n",
    "        \n",
    "        print(\"listening...\")\n",
    "        r.pause_threshold = 1\n",
    "        audio = r.listen(source)\n",
    "    try:\n",
    "        q = r.recognize_google(audio,language='en-in')\n",
    "        print(f\"user said {q}\")\n",
    "\n",
    "        mixer.music.load('../sounds/recognise_sound.mp3')  \n",
    "        mixer.music.play()\n",
    "        \n",
    "        print(\"Recognizing...\")\n",
    "    except UnboundLocalError:\n",
    "        speak(\"Sorry could not recognise,try again\")\n",
    "        takecommand()\n",
    "    except LookupError:                                 # speech is unintelligible\n",
    "        print(\"Could not understand audio\")\n",
    "    finally:\n",
    "        return q"
   ]
  },
  {
   "cell_type": "code",
   "execution_count": 30,
   "id": "4d8bfc42",
   "metadata": {},
   "outputs": [
    {
     "name": "stdout",
     "output_type": "stream",
     "text": [
      "listening...\n"
     ]
    },
    {
     "ename": "UnboundLocalError",
     "evalue": "local variable 'q' referenced before assignment",
     "output_type": "error",
     "traceback": [
      "\u001b[1;31m---------------------------------------------------------------------------\u001b[0m",
      "\u001b[1;31mUnknownValueError\u001b[0m                         Traceback (most recent call last)",
      "\u001b[1;32m~\\AppData\\Local\\Temp/ipykernel_16092/3189864584.py\u001b[0m in \u001b[0;36mtakecommand\u001b[1;34m()\u001b[0m\n\u001b[0;32m     12\u001b[0m     \u001b[1;32mtry\u001b[0m\u001b[1;33m:\u001b[0m\u001b[1;33m\u001b[0m\u001b[1;33m\u001b[0m\u001b[0m\n\u001b[1;32m---> 13\u001b[1;33m         \u001b[0mq\u001b[0m \u001b[1;33m=\u001b[0m \u001b[0mr\u001b[0m\u001b[1;33m.\u001b[0m\u001b[0mrecognize_google\u001b[0m\u001b[1;33m(\u001b[0m\u001b[0maudio\u001b[0m\u001b[1;33m,\u001b[0m\u001b[0mlanguage\u001b[0m\u001b[1;33m=\u001b[0m\u001b[1;34m'en-in'\u001b[0m\u001b[1;33m)\u001b[0m\u001b[1;33m\u001b[0m\u001b[1;33m\u001b[0m\u001b[0m\n\u001b[0m\u001b[0;32m     14\u001b[0m         \u001b[0mprint\u001b[0m\u001b[1;33m(\u001b[0m\u001b[1;34mf\"user said {q}\"\u001b[0m\u001b[1;33m)\u001b[0m\u001b[1;33m\u001b[0m\u001b[1;33m\u001b[0m\u001b[0m\n",
      "\u001b[1;32m~\\AppData\\Local\\Programs\\Python\\Python310\\lib\\site-packages\\speech_recognition\\__init__.py\u001b[0m in \u001b[0;36mrecognize_google\u001b[1;34m(self, audio_data, key, language, show_all)\u001b[0m\n\u001b[0;32m    857\u001b[0m         \u001b[1;32mif\u001b[0m \u001b[0mshow_all\u001b[0m\u001b[1;33m:\u001b[0m \u001b[1;32mreturn\u001b[0m \u001b[0mactual_result\u001b[0m\u001b[1;33m\u001b[0m\u001b[1;33m\u001b[0m\u001b[0m\n\u001b[1;32m--> 858\u001b[1;33m         \u001b[1;32mif\u001b[0m \u001b[1;32mnot\u001b[0m \u001b[0misinstance\u001b[0m\u001b[1;33m(\u001b[0m\u001b[0mactual_result\u001b[0m\u001b[1;33m,\u001b[0m \u001b[0mdict\u001b[0m\u001b[1;33m)\u001b[0m \u001b[1;32mor\u001b[0m \u001b[0mlen\u001b[0m\u001b[1;33m(\u001b[0m\u001b[0mactual_result\u001b[0m\u001b[1;33m.\u001b[0m\u001b[0mget\u001b[0m\u001b[1;33m(\u001b[0m\u001b[1;34m\"alternative\"\u001b[0m\u001b[1;33m,\u001b[0m \u001b[1;33m[\u001b[0m\u001b[1;33m]\u001b[0m\u001b[1;33m)\u001b[0m\u001b[1;33m)\u001b[0m \u001b[1;33m==\u001b[0m \u001b[1;36m0\u001b[0m\u001b[1;33m:\u001b[0m \u001b[1;32mraise\u001b[0m \u001b[0mUnknownValueError\u001b[0m\u001b[1;33m(\u001b[0m\u001b[1;33m)\u001b[0m\u001b[1;33m\u001b[0m\u001b[1;33m\u001b[0m\u001b[0m\n\u001b[0m\u001b[0;32m    859\u001b[0m \u001b[1;33m\u001b[0m\u001b[0m\n",
      "\u001b[1;31mUnknownValueError\u001b[0m: ",
      "\nDuring handling of the above exception, another exception occurred:\n",
      "\u001b[1;31mUnboundLocalError\u001b[0m                         Traceback (most recent call last)",
      "\u001b[1;32m~\\AppData\\Local\\Temp/ipykernel_16092/3413678321.py\u001b[0m in \u001b[0;36m<module>\u001b[1;34m\u001b[0m\n\u001b[1;32m----> 1\u001b[1;33m \u001b[0mtakecommand\u001b[0m\u001b[1;33m(\u001b[0m\u001b[1;33m)\u001b[0m\u001b[1;33m\u001b[0m\u001b[1;33m\u001b[0m\u001b[0m\n\u001b[0m",
      "\u001b[1;32m~\\AppData\\Local\\Temp/ipykernel_16092/3189864584.py\u001b[0m in \u001b[0;36mtakecommand\u001b[1;34m()\u001b[0m\n\u001b[0;32m     24\u001b[0m         \u001b[0mprint\u001b[0m\u001b[1;33m(\u001b[0m\u001b[1;34m\"Could not understand audio\"\u001b[0m\u001b[1;33m)\u001b[0m\u001b[1;33m\u001b[0m\u001b[1;33m\u001b[0m\u001b[0m\n\u001b[0;32m     25\u001b[0m     \u001b[1;32mfinally\u001b[0m\u001b[1;33m:\u001b[0m\u001b[1;33m\u001b[0m\u001b[1;33m\u001b[0m\u001b[0m\n\u001b[1;32m---> 26\u001b[1;33m         \u001b[1;32mreturn\u001b[0m \u001b[0mq\u001b[0m\u001b[1;33m\u001b[0m\u001b[1;33m\u001b[0m\u001b[0m\n\u001b[0m",
      "\u001b[1;31mUnboundLocalError\u001b[0m: local variable 'q' referenced before assignment"
     ]
    }
   ],
   "source": [
    "takecommand()"
   ]
  },
  {
   "cell_type": "code",
   "execution_count": null,
   "id": "e9fa4342",
   "metadata": {},
   "outputs": [],
   "source": []
  },
  {
   "cell_type": "code",
   "execution_count": null,
   "id": "52a3b57e",
   "metadata": {},
   "outputs": [],
   "source": []
  },
  {
   "cell_type": "markdown",
   "id": "d4ee6f77",
   "metadata": {},
   "source": [
    "## navigation starts"
   ]
  },
  {
   "cell_type": "code",
   "execution_count": 31,
   "id": "9cf21a88",
   "metadata": {},
   "outputs": [],
   "source": [
    "import time"
   ]
  },
  {
   "cell_type": "code",
   "execution_count": 32,
   "id": "3504e5e3",
   "metadata": {},
   "outputs": [],
   "source": [
    "from selenium import webdriver\n",
    "from selenium.webdriver.chrome.service import Service\n",
    "from webdriver_manager.chrome import ChromeDriverManager\n",
    "from selenium.webdriver.common.by import By\n",
    "from selenium.webdriver.common.keys import Keys\n",
    "from selenium.webdriver.common.action_chains import ActionChains\n",
    "from bs4 import BeautifulSoup\n",
    "import wikipedia\n",
    "import re"
   ]
  },
  {
   "cell_type": "code",
   "execution_count": null,
   "id": "89f755da",
   "metadata": {},
   "outputs": [],
   "source": []
  },
  {
   "cell_type": "code",
   "execution_count": 33,
   "id": "e5077aad",
   "metadata": {},
   "outputs": [
    {
     "name": "stderr",
     "output_type": "stream",
     "text": [
      "[WDM] - \n",
      "\n",
      "[WDM] - ====== WebDriver manager ======\n",
      "[WDM] - Current google-chrome version is 95.0.4638\n",
      "[WDM] - Get LATEST driver version for 95.0.4638\n",
      "[WDM] - Driver [C:\\Users\\harsh\\.wdm\\drivers\\chromedriver\\win32\\95.0.4638.54\\chromedriver.exe] found in cache\n"
     ]
    }
   ],
   "source": [
    "# create window for navigation\n",
    "\n",
    "s=Service(ChromeDriverManager().install())\n",
    "driver = webdriver.Chrome(service=s)\n",
    "# driver.maximize_window()\n",
    "time.sleep(2)"
   ]
  },
  {
   "cell_type": "code",
   "execution_count": null,
   "id": "801f2181",
   "metadata": {},
   "outputs": [],
   "source": []
  },
  {
   "cell_type": "markdown",
   "id": "30237789",
   "metadata": {},
   "source": [
    "## go to main wikipedia page"
   ]
  },
  {
   "cell_type": "code",
   "execution_count": 34,
   "id": "caaf288f",
   "metadata": {},
   "outputs": [],
   "source": [
    "def search_page():\n",
    "    driver.get(\"https://www.wikipedia.org\")\n",
    "    time.sleep(1)"
   ]
  },
  {
   "cell_type": "code",
   "execution_count": null,
   "id": "282f1d03",
   "metadata": {},
   "outputs": [],
   "source": []
  },
  {
   "cell_type": "markdown",
   "id": "76be35e4",
   "metadata": {},
   "source": [
    "## search something"
   ]
  },
  {
   "cell_type": "code",
   "execution_count": 35,
   "id": "231e5e89",
   "metadata": {},
   "outputs": [],
   "source": [
    "def search_wikipedia(text):\n",
    "    search_bar = driver.find_element_by_id(\"searchInput\")\n",
    "    search_bar.clear()\n",
    "    time.sleep(1)\n",
    "    search_bar.send_keys(text)\n",
    "    search_bar.send_keys(Keys.RETURN)"
   ]
  },
  {
   "cell_type": "code",
   "execution_count": null,
   "id": "9472ee37",
   "metadata": {},
   "outputs": [],
   "source": []
  },
  {
   "cell_type": "code",
   "execution_count": null,
   "id": "e3e0bdf5",
   "metadata": {},
   "outputs": [],
   "source": []
  },
  {
   "cell_type": "markdown",
   "id": "a99a79f7",
   "metadata": {},
   "source": [
    "## move up and down"
   ]
  },
  {
   "cell_type": "code",
   "execution_count": 36,
   "id": "4053fafa",
   "metadata": {},
   "outputs": [],
   "source": [
    "def move_down():\n",
    "    driver.execute_script(\"window.scrollTo(0, window.scrollY + 1000)\")"
   ]
  },
  {
   "cell_type": "code",
   "execution_count": 37,
   "id": "05fa1a71",
   "metadata": {},
   "outputs": [],
   "source": [
    "def move_up():\n",
    "    driver.execute_script(\"window.scrollTo(0, window.scrollY - 200)\")"
   ]
  },
  {
   "cell_type": "code",
   "execution_count": null,
   "id": "00edcdda",
   "metadata": {},
   "outputs": [],
   "source": []
  },
  {
   "cell_type": "markdown",
   "id": "3a3a0f00",
   "metadata": {},
   "source": [
    "# parsing html"
   ]
  },
  {
   "cell_type": "code",
   "execution_count": 38,
   "id": "c9d7bcb6",
   "metadata": {},
   "outputs": [],
   "source": [
    "def getAllContent():\n",
    "    allHtmlContent = driver.page_source\n",
    "    htmlContent = BeautifulSoup(allHtmlContent)\n",
    "    reqHtmlContent = htmlContent.find(class_ = \"mw-parser-output\")\n",
    "    all_links = list(reqHtmlContent.find_all('a'))\n",
    "    all_headings = list(reqHtmlContent.find_all(['h2','h3']))\n",
    "    all_paras = list(reqHtmlContent.find_all('p'))\n",
    "    all_images = list(reqHtmlContent.find_all('img',{'src':re.compile('.jpg')}))\n",
    "    \n",
    "    return all_links,all_headings,all_paras,all_images"
   ]
  },
  {
   "cell_type": "code",
   "execution_count": null,
   "id": "8f475070",
   "metadata": {},
   "outputs": [],
   "source": []
  },
  {
   "cell_type": "code",
   "execution_count": null,
   "id": "cf67b2ad",
   "metadata": {},
   "outputs": [],
   "source": []
  },
  {
   "cell_type": "code",
   "execution_count": null,
   "id": "6a11b6f7",
   "metadata": {},
   "outputs": [],
   "source": []
  },
  {
   "cell_type": "markdown",
   "id": "59c293c2",
   "metadata": {},
   "source": [
    "# web page statistics"
   ]
  },
  {
   "cell_type": "code",
   "execution_count": 39,
   "id": "5baf6c13",
   "metadata": {},
   "outputs": [],
   "source": [
    "def webPageStats():\n",
    "    page_title = driver.find_element_by_id(\"firstHeading\").text.replace(' ','_')\n",
    "    stats_url = f\"https://pageviews.toolforge.org/?project=en.wikipedia.org&platform=all-access&agent=user&redirects=0&range=latest-20&pages={page_title}\"\n",
    "    driver.execute_script(\"window.open('');\")\n",
    "    driver.switch_to.window(driver.window_handles[1])\n",
    "    driver.get(stats_url)\n",
    "    time.sleep(2)\n",
    "    stats_list = driver.find_elements_by_class_name(\"linear-legend--counts\")\n",
    "    stats_string = ''\n",
    "    for i in stats_list:\n",
    "        if i.text != '':\n",
    "            stats_string += i.text.rstrip() + \"\\n\"\n",
    "    #print(stats_string)\n",
    "    speak(stats_string)\n",
    "    driver.close()\n",
    "    driver.switch_to.window(driver.window_handles[0])"
   ]
  },
  {
   "cell_type": "code",
   "execution_count": null,
   "id": "cbe1a59c",
   "metadata": {},
   "outputs": [],
   "source": []
  },
  {
   "cell_type": "code",
   "execution_count": null,
   "id": "ac618fcc",
   "metadata": {},
   "outputs": [],
   "source": []
  },
  {
   "cell_type": "code",
   "execution_count": null,
   "id": "0777309f",
   "metadata": {},
   "outputs": [],
   "source": []
  },
  {
   "cell_type": "code",
   "execution_count": null,
   "id": "09db18a9",
   "metadata": {},
   "outputs": [],
   "source": []
  },
  {
   "cell_type": "code",
   "execution_count": null,
   "id": "9241cd8d",
   "metadata": {},
   "outputs": [],
   "source": []
  },
  {
   "cell_type": "code",
   "execution_count": 40,
   "id": "a3b3410d",
   "metadata": {},
   "outputs": [],
   "source": [
    "search_page()"
   ]
  },
  {
   "cell_type": "code",
   "execution_count": null,
   "id": "c957d878",
   "metadata": {},
   "outputs": [],
   "source": []
  },
  {
   "cell_type": "code",
   "execution_count": null,
   "id": "6e6f6cab",
   "metadata": {},
   "outputs": [],
   "source": []
  },
  {
   "cell_type": "code",
   "execution_count": 41,
   "id": "37ab5bab",
   "metadata": {},
   "outputs": [],
   "source": [
    "def showImage(img):\n",
    "            driver.execute_script(\"window.open('');\")\n",
    "            driver.switch_to.window(driver.window_handles[1])\n",
    "            driver.get(img)\n",
    "            time.sleep(2)\n",
    "            driver.close()\n",
    "            driver.switch_to.window(driver.window_handles[0])"
   ]
  },
  {
   "cell_type": "code",
   "execution_count": null,
   "id": "1de33f75",
   "metadata": {},
   "outputs": [],
   "source": []
  },
  {
   "cell_type": "code",
   "execution_count": 42,
   "id": "c4409d81",
   "metadata": {},
   "outputs": [
    {
     "name": "stdout",
     "output_type": "stream",
     "text": [
      "listening...\n",
      "user said Sachin Tendulkar Wikipedia\n",
      "Recognizing...\n",
      "searching wikipedia\n"
     ]
    },
    {
     "name": "stderr",
     "output_type": "stream",
     "text": [
      "C:\\Users\\harsh\\AppData\\Local\\Temp/ipykernel_16092/2419073478.py:2: DeprecationWarning: find_element_by_* commands are deprecated. Please use find_element() instead\n",
      "  search_bar = driver.find_element_by_id(\"searchInput\")\n"
     ]
    },
    {
     "name": "stdout",
     "output_type": "stream",
     "text": [
      "This page has 3881 links, 47 headings, 108 paragraphs, 11 images\n",
      "Tell me what to do\n",
      "listening...\n",
      "user said next image\n",
      "Recognizing...\n",
      "query2:  next image\n",
      "Tell me what to do\n",
      "listening...\n",
      "user said previous previous image\n",
      "Recognizing...\n",
      "query2:  previous previous image\n",
      "Tell me what to do\n",
      "listening...\n",
      "user said next heading\n",
      "Recognizing...\n",
      "query2:  next heading\n",
      "Early domestic career\n"
     ]
    },
    {
     "name": "stderr",
     "output_type": "stream",
     "text": [
      "C:\\Users\\harsh\\AppData\\Local\\Temp/ipykernel_16092/1711242209.py:117: DeprecationWarning: find_element_by_* commands are deprecated. Please use find_element() instead\n",
      "  ActionChains(driver).move_to_element(driver.find_element_by_id(curr_heading_id)).perform()\n"
     ]
    },
    {
     "name": "stdout",
     "output_type": "stream",
     "text": [
      "Tell me what to do\n",
      "listening...\n",
      "user said next heading\n",
      "Recognizing...\n",
      "query2:  next heading\n",
      "Yorkshire\n",
      "Tell me what to do\n",
      "listening...\n",
      "user said setting previous setting\n",
      "Recognizing...\n",
      "query2:  setting previous setting\n",
      "Tell me what to do\n",
      "listening...\n",
      "user said previous heading\n",
      "Recognizing...\n",
      "query2:  previous heading\n",
      "Early domestic career\n"
     ]
    },
    {
     "name": "stderr",
     "output_type": "stream",
     "text": [
      "C:\\Users\\harsh\\AppData\\Local\\Temp/ipykernel_16092/1711242209.py:132: DeprecationWarning: find_element_by_* commands are deprecated. Please use find_element() instead\n",
      "  ActionChains(driver).move_to_element(driver.find_element_by_id(curr_heading_id)).perform()\n"
     ]
    },
    {
     "name": "stdout",
     "output_type": "stream",
     "text": [
      "Tell me what to do\n"
     ]
    },
    {
     "ename": "KeyboardInterrupt",
     "evalue": "",
     "output_type": "error",
     "traceback": [
      "\u001b[1;31m---------------------------------------------------------------------------\u001b[0m",
      "\u001b[1;31mKeyboardInterrupt\u001b[0m                         Traceback (most recent call last)",
      "\u001b[1;32m~\\AppData\\Local\\Temp/ipykernel_16092/1711242209.py\u001b[0m in \u001b[0;36m<module>\u001b[1;34m\u001b[0m\n\u001b[0;32m     51\u001b[0m             \u001b[0mquery2\u001b[0m \u001b[1;33m=\u001b[0m \u001b[1;34m''\u001b[0m\u001b[1;33m\u001b[0m\u001b[1;33m\u001b[0m\u001b[0m\n\u001b[0;32m     52\u001b[0m             \u001b[1;32mtry\u001b[0m\u001b[1;33m:\u001b[0m\u001b[1;33m\u001b[0m\u001b[1;33m\u001b[0m\u001b[0m\n\u001b[1;32m---> 53\u001b[1;33m                 \u001b[0mquery2\u001b[0m \u001b[1;33m=\u001b[0m \u001b[0mtakecommand\u001b[0m\u001b[1;33m(\u001b[0m\u001b[1;33m)\u001b[0m\u001b[1;33m.\u001b[0m\u001b[0mlower\u001b[0m\u001b[1;33m(\u001b[0m\u001b[1;33m)\u001b[0m\u001b[1;33m\u001b[0m\u001b[1;33m\u001b[0m\u001b[0m\n\u001b[0m\u001b[0;32m     54\u001b[0m                 \u001b[0mprint\u001b[0m\u001b[1;33m(\u001b[0m\u001b[1;34m\"query2: \"\u001b[0m \u001b[1;33m,\u001b[0m \u001b[0mquery2\u001b[0m\u001b[1;33m)\u001b[0m\u001b[1;33m\u001b[0m\u001b[1;33m\u001b[0m\u001b[0m\n\u001b[0;32m     55\u001b[0m             \u001b[1;32mexcept\u001b[0m \u001b[0mUnboundLocalError\u001b[0m\u001b[1;33m:\u001b[0m\u001b[1;33m\u001b[0m\u001b[1;33m\u001b[0m\u001b[0m\n",
      "\u001b[1;32m~\\AppData\\Local\\Temp/ipykernel_16092/3189864584.py\u001b[0m in \u001b[0;36mtakecommand\u001b[1;34m()\u001b[0m\n\u001b[0;32m      2\u001b[0m     \u001b[0mr\u001b[0m \u001b[1;33m=\u001b[0m \u001b[0msr\u001b[0m\u001b[1;33m.\u001b[0m\u001b[0mRecognizer\u001b[0m\u001b[1;33m(\u001b[0m\u001b[1;33m)\u001b[0m\u001b[1;33m\u001b[0m\u001b[1;33m\u001b[0m\u001b[0m\n\u001b[0;32m      3\u001b[0m     \u001b[1;32mwith\u001b[0m \u001b[0msr\u001b[0m\u001b[1;33m.\u001b[0m\u001b[0mMicrophone\u001b[0m\u001b[1;33m(\u001b[0m\u001b[1;33m)\u001b[0m \u001b[1;32mas\u001b[0m \u001b[0msource\u001b[0m\u001b[1;33m:\u001b[0m\u001b[1;33m\u001b[0m\u001b[1;33m\u001b[0m\u001b[0m\n\u001b[1;32m----> 4\u001b[1;33m         \u001b[0mr\u001b[0m\u001b[1;33m.\u001b[0m\u001b[0madjust_for_ambient_noise\u001b[0m\u001b[1;33m(\u001b[0m\u001b[0msource\u001b[0m\u001b[1;33m,\u001b[0m\u001b[0mduration\u001b[0m\u001b[1;33m=\u001b[0m\u001b[1;36m1\u001b[0m\u001b[1;33m)\u001b[0m\u001b[1;33m\u001b[0m\u001b[1;33m\u001b[0m\u001b[0m\n\u001b[0m\u001b[0;32m      5\u001b[0m \u001b[1;33m\u001b[0m\u001b[0m\n\u001b[0;32m      6\u001b[0m         \u001b[0mmixer\u001b[0m\u001b[1;33m.\u001b[0m\u001b[0mmusic\u001b[0m\u001b[1;33m.\u001b[0m\u001b[0mload\u001b[0m\u001b[1;33m(\u001b[0m\u001b[1;34m'../sounds/listen_sound.mp3'\u001b[0m\u001b[1;33m)\u001b[0m\u001b[1;33m\u001b[0m\u001b[1;33m\u001b[0m\u001b[0m\n",
      "\u001b[1;32m~\\AppData\\Local\\Programs\\Python\\Python310\\lib\\site-packages\\speech_recognition\\__init__.py\u001b[0m in \u001b[0;36madjust_for_ambient_noise\u001b[1;34m(self, source, duration)\u001b[0m\n\u001b[0;32m    527\u001b[0m             \u001b[0melapsed_time\u001b[0m \u001b[1;33m+=\u001b[0m \u001b[0mseconds_per_buffer\u001b[0m\u001b[1;33m\u001b[0m\u001b[1;33m\u001b[0m\u001b[0m\n\u001b[0;32m    528\u001b[0m             \u001b[1;32mif\u001b[0m \u001b[0melapsed_time\u001b[0m \u001b[1;33m>\u001b[0m \u001b[0mduration\u001b[0m\u001b[1;33m:\u001b[0m \u001b[1;32mbreak\u001b[0m\u001b[1;33m\u001b[0m\u001b[1;33m\u001b[0m\u001b[0m\n\u001b[1;32m--> 529\u001b[1;33m             \u001b[0mbuffer\u001b[0m \u001b[1;33m=\u001b[0m \u001b[0msource\u001b[0m\u001b[1;33m.\u001b[0m\u001b[0mstream\u001b[0m\u001b[1;33m.\u001b[0m\u001b[0mread\u001b[0m\u001b[1;33m(\u001b[0m\u001b[0msource\u001b[0m\u001b[1;33m.\u001b[0m\u001b[0mCHUNK\u001b[0m\u001b[1;33m)\u001b[0m\u001b[1;33m\u001b[0m\u001b[1;33m\u001b[0m\u001b[0m\n\u001b[0m\u001b[0;32m    530\u001b[0m             \u001b[0menergy\u001b[0m \u001b[1;33m=\u001b[0m \u001b[0maudioop\u001b[0m\u001b[1;33m.\u001b[0m\u001b[0mrms\u001b[0m\u001b[1;33m(\u001b[0m\u001b[0mbuffer\u001b[0m\u001b[1;33m,\u001b[0m \u001b[0msource\u001b[0m\u001b[1;33m.\u001b[0m\u001b[0mSAMPLE_WIDTH\u001b[0m\u001b[1;33m)\u001b[0m  \u001b[1;31m# energy of the audio signal\u001b[0m\u001b[1;33m\u001b[0m\u001b[1;33m\u001b[0m\u001b[0m\n\u001b[0;32m    531\u001b[0m \u001b[1;33m\u001b[0m\u001b[0m\n",
      "\u001b[1;32m~\\AppData\\Local\\Programs\\Python\\Python310\\lib\\site-packages\\speech_recognition\\__init__.py\u001b[0m in \u001b[0;36mread\u001b[1;34m(self, size)\u001b[0m\n\u001b[0;32m    159\u001b[0m \u001b[1;33m\u001b[0m\u001b[0m\n\u001b[0;32m    160\u001b[0m         \u001b[1;32mdef\u001b[0m \u001b[0mread\u001b[0m\u001b[1;33m(\u001b[0m\u001b[0mself\u001b[0m\u001b[1;33m,\u001b[0m \u001b[0msize\u001b[0m\u001b[1;33m)\u001b[0m\u001b[1;33m:\u001b[0m\u001b[1;33m\u001b[0m\u001b[1;33m\u001b[0m\u001b[0m\n\u001b[1;32m--> 161\u001b[1;33m             \u001b[1;32mreturn\u001b[0m \u001b[0mself\u001b[0m\u001b[1;33m.\u001b[0m\u001b[0mpyaudio_stream\u001b[0m\u001b[1;33m.\u001b[0m\u001b[0mread\u001b[0m\u001b[1;33m(\u001b[0m\u001b[0msize\u001b[0m\u001b[1;33m,\u001b[0m \u001b[0mexception_on_overflow\u001b[0m\u001b[1;33m=\u001b[0m\u001b[1;32mFalse\u001b[0m\u001b[1;33m)\u001b[0m\u001b[1;33m\u001b[0m\u001b[1;33m\u001b[0m\u001b[0m\n\u001b[0m\u001b[0;32m    162\u001b[0m \u001b[1;33m\u001b[0m\u001b[0m\n\u001b[0;32m    163\u001b[0m         \u001b[1;32mdef\u001b[0m \u001b[0mclose\u001b[0m\u001b[1;33m(\u001b[0m\u001b[0mself\u001b[0m\u001b[1;33m)\u001b[0m\u001b[1;33m:\u001b[0m\u001b[1;33m\u001b[0m\u001b[1;33m\u001b[0m\u001b[0m\n",
      "\u001b[1;32m~\\AppData\\Local\\Programs\\Python\\Python310\\lib\\site-packages\\pyaudio.py\u001b[0m in \u001b[0;36mread\u001b[1;34m(self, num_frames, exception_on_overflow)\u001b[0m\n\u001b[0;32m    606\u001b[0m                           paCanNotReadFromAnOutputOnlyStream)\n\u001b[0;32m    607\u001b[0m \u001b[1;33m\u001b[0m\u001b[0m\n\u001b[1;32m--> 608\u001b[1;33m         \u001b[1;32mreturn\u001b[0m \u001b[0mpa\u001b[0m\u001b[1;33m.\u001b[0m\u001b[0mread_stream\u001b[0m\u001b[1;33m(\u001b[0m\u001b[0mself\u001b[0m\u001b[1;33m.\u001b[0m\u001b[0m_stream\u001b[0m\u001b[1;33m,\u001b[0m \u001b[0mnum_frames\u001b[0m\u001b[1;33m,\u001b[0m \u001b[0mexception_on_overflow\u001b[0m\u001b[1;33m)\u001b[0m\u001b[1;33m\u001b[0m\u001b[1;33m\u001b[0m\u001b[0m\n\u001b[0m\u001b[0;32m    609\u001b[0m \u001b[1;33m\u001b[0m\u001b[0m\n\u001b[0;32m    610\u001b[0m     \u001b[1;32mdef\u001b[0m \u001b[0mget_read_available\u001b[0m\u001b[1;33m(\u001b[0m\u001b[0mself\u001b[0m\u001b[1;33m)\u001b[0m\u001b[1;33m:\u001b[0m\u001b[1;33m\u001b[0m\u001b[1;33m\u001b[0m\u001b[0m\n",
      "\u001b[1;31mKeyboardInterrupt\u001b[0m: "
     ]
    }
   ],
   "source": [
    "while True:\n",
    "    query = ''\n",
    "    try:\n",
    "        query = takecommand().lower()\n",
    "    except UnboundLocalError:\n",
    "        speak(\"Try again\")\n",
    "        \n",
    "    if  \"search page\" or \"main page\" in query:\n",
    "        search_page()\n",
    "        time.sleep(1)\n",
    "#     elif \"dicri\" in query:\n",
    "#         x = getTodayNews(word)\n",
    "#         speak(x)\n",
    "    \n",
    "        \n",
    "    if \"wikipedia\" in query:\n",
    "        speak(\"searching wikipedia\")\n",
    "        query = query.replace(\"wikipedia\",\"\")\n",
    "        search_wikipedia(query)\n",
    "        \n",
    "        # Scrapping content from wikipedia\n",
    "        all_links,all_headings,all_paras,all_images = getAllContent()\n",
    "        \n",
    "        # initially\n",
    "        curr_link = all_links[0]\n",
    "        curr_heading = all_headings[1]\n",
    "        curr_para = all_paras[0]\n",
    "        curr_image = all_images[0]\n",
    "        \n",
    "        # length of all contents\n",
    "        all_link_len = len(all_links)\n",
    "        all_heading_len = len(all_headings)\n",
    "        all_para_len = len(all_paras)\n",
    "        all_image_len = len(all_images)\n",
    "        imgList=[]\n",
    "        for images in all_images:\n",
    "            imgList.append(images['src'])\n",
    "        imgIndex=0\n",
    "        \n",
    "        \n",
    "        # 2 lines , total link,heading,paras,images\n",
    "        starting = f\"This page has {all_link_len} links, {all_heading_len} headings, {all_para_len} paragraphs, {all_image_len} images\"\n",
    "        \n",
    "        speak(starting)\n",
    "        time.sleep(2)\n",
    "        \n",
    "        while True:\n",
    "\n",
    "            # take speech input to be done.  ---------------\n",
    "            speak(\"Tell me what to do\")\n",
    "            query2 = ''\n",
    "            try:\n",
    "                query2 = takecommand().lower()\n",
    "                print(\"query2: \" , query2)\n",
    "            except UnboundLocalError:\n",
    "                speak(\"Try again\")\n",
    "                \n",
    "\n",
    "            #move up (working)\n",
    "            if \"up\" in query2:\n",
    "                # if already on the top, then speak feedback ---------------\n",
    "                move_up()\n",
    "                \n",
    "            # move down\n",
    "            elif \"down\" in query2:\n",
    "                # if already on the bottom, then speak feedback ---------------\n",
    "                move_down()\n",
    "            \n",
    "            # web page statistics  (working)\n",
    "            elif \"stats\" in query2 or \"statistics\" in query2: \n",
    "                webPageStats()\n",
    "                time.sleep(2)\n",
    "                \n",
    "            # next link\n",
    "            elif \"next link\" in query2:\n",
    "                curr_link_index = all_links.index(curr_link)\n",
    "                if curr_link_index == all_link_len-1:\n",
    "                    # do it for all others as well ---------------\n",
    "                    speak(\"All links visited\")\n",
    "                elif curr_link_index < all_link_len:\n",
    "                    curr_link_index += 1\n",
    "                    curr_link = all_links[curr_link_index]\n",
    "                \n",
    "                # locating link in opened tab\n",
    "                ActionChains(driver).move_to_element(driver.find_element_by_link_text(curr_link.get_text())).perform()\n",
    "                time.sleep(1)\n",
    "                speak(curr_link.get_text())\n",
    "\n",
    "                \n",
    "            # prev link\n",
    "            elif \"previous link\" in query2:\n",
    "                if curr_link_index == 0:\n",
    "                    # do it for all others as well ---------------\n",
    "                    speak(\"Already on first link\")\n",
    "                curr_link_index = all_links.index(curr_link)\n",
    "                if curr_link_index > 0:\n",
    "                    curr_link_index -= 1\n",
    "                    curr_link = all_links[curr_link_index]\n",
    "                    \n",
    "                # locating link in opened tab                \n",
    "                speak(curr_link.get_text())\n",
    "                ActionChains(driver).move_to_element(driver.find_element_by_link_text(curr_link.get_text())).perform()\n",
    "                time.sleep(1)\n",
    "            \n",
    "            \n",
    "            #next heading ---------------\n",
    "            elif \"next heading\" in query2:\n",
    "                curr_heading_index = all_headings.index(curr_heading)\n",
    "                if curr_heading_index < all_heading_len:\n",
    "                    curr_heading_index += 1\n",
    "                    curr_heading = all_headings[curr_heading_index]\n",
    "\n",
    "                    \n",
    "                #locating heading in tab\n",
    "                speak(curr_heading.get_text())\n",
    "                curr_heading_id = curr_heading.get_text().replace(\" \",\"_\").replace(\"[edit]\",'')\n",
    "                ActionChains(driver).move_to_element(driver.find_element_by_id(curr_heading_id)).perform()\n",
    "                time.sleep(1)\n",
    "           \n",
    "        \n",
    "        \n",
    "            # prev heading ---------------\n",
    "            elif \"previous heading\" in query2:\n",
    "                curr_heading_index = all_headings.index(curr_heading)\n",
    "                if curr_heading_index > 1:\n",
    "                    curr_heading_index -= 1\n",
    "                    curr_heading = all_headings[curr_heading_index]\n",
    "\n",
    "                #locating heading in tab\n",
    "                speak(curr_heading.get_text())\n",
    "                curr_heading_id = curr_heading.get_text().replace(\" \",\"_\").replace(\"[edit]\",'')\n",
    "                ActionChains(driver).move_to_element(driver.find_element_by_id(curr_heading_id)).perform()\n",
    "                time.sleep(1)\n",
    "            \n",
    "            # next para ---------------\n",
    "            elif \"next para\" in query2 or \"next paragraph\" in query2:\n",
    "                curr_para_index = all_paras.index(curr_para)\n",
    "                if curr_para_index < all_para_len:\n",
    "                    curr_para_index += 1\n",
    "                    curr_para = all_paras[curr_para_index]\n",
    "                \n",
    "                speak(curr_para.get_text())\n",
    "            \n",
    "            \n",
    "            # prev para ---------------\n",
    "            elif \"previous para\" in query2 or \"previous paragraph\" in query2:\n",
    "                curr_para_index = all_paras.index(curr_para)\n",
    "                if curr_para_index > 0:\n",
    "                    curr_para_index -= 1\n",
    "                    curr_para = all_paras[curr_para_index]\n",
    "              \n",
    "                speak(curr_para.get_text())\n",
    "            \n",
    "            \n",
    "#             next image\n",
    "            elif \"next image\" in query2:\n",
    "                if imgIndex<len(imgList):\n",
    "                    imgIndex+=1\n",
    "                    showImage(\"https:\"+imgList[imgIndex])\n",
    "  \n",
    "\n",
    "            # previous image\n",
    "            elif \"previous image\" in query2:\n",
    "                if imgIndex > 0:\n",
    "                    imgIndex -= 1\n",
    "                    showImage(\"https:\"+imgList[imgIndex])\n",
    "            \n",
    "            \n",
    "            # go to main page  ---------------\n",
    "            # then break this loop\n",
    "            elif \"main page\" in query2 or \"search page\" in query2:\n",
    "                speak(\"Main page loading...\")\n",
    "                search_page()\n",
    "                break\n",
    "            \n",
    "            \n",
    "            # go to google page   (\"xyz google\")  ---------------\n",
    "            # first do what he says,then break this loop\n",
    "            elif \"google\" in query2:\n",
    "                driver.execute_script(\"window.open('');\")\n",
    "                driver.switch_to.window(driver.window_handles[1])\n",
    "                driver.get(\"https://www.google.com\")\n",
    "                time.sleep(2)\n",
    "                search_bar = driver.find_element_by_name(\"q\")\n",
    "                search_bar.clear()\n",
    "                search_text = query2.replace(\"google\",\"\")\n",
    "                search_bar.send_keys(search_text)\n",
    "                search_bar.send_keys(Keys.RETURN)\n",
    "                time.sleep(4)\n",
    "                driver.close()\n",
    "                driver.switch_to.window(driver.window_handles[0])\n",
    "                \n",
    "            \n",
    "                \n",
    "            \n"
   ]
  },
  {
   "cell_type": "code",
   "execution_count": null,
   "id": "1f676046",
   "metadata": {},
   "outputs": [],
   "source": []
  },
  {
   "cell_type": "code",
   "execution_count": null,
   "id": "7be4114a",
   "metadata": {},
   "outputs": [],
   "source": []
  },
  {
   "cell_type": "code",
   "execution_count": null,
   "id": "b28b3272",
   "metadata": {},
   "outputs": [],
   "source": []
  },
  {
   "cell_type": "code",
   "execution_count": null,
   "id": "f5b9b438",
   "metadata": {},
   "outputs": [],
   "source": []
  },
  {
   "cell_type": "code",
   "execution_count": null,
   "id": "3c3fa526",
   "metadata": {},
   "outputs": [],
   "source": []
  }
 ],
 "metadata": {
  "kernelspec": {
   "display_name": "Python 3 (ipykernel)",
   "language": "python",
   "name": "python3"
  },
  "language_info": {
   "codemirror_mode": {
    "name": "ipython",
    "version": 3
   },
   "file_extension": ".py",
   "mimetype": "text/x-python",
   "name": "python",
   "nbconvert_exporter": "python",
   "pygments_lexer": "ipython3",
   "version": "3.10.0"
  }
 },
 "nbformat": 4,
 "nbformat_minor": 5
}
