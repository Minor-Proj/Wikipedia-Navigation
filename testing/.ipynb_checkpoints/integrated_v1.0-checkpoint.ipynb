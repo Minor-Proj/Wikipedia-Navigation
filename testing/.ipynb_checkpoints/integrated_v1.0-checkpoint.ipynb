{
 "cells": [
  {
   "cell_type": "markdown",
   "id": "730218d0",
   "metadata": {},
   "source": [
    "## text to speech"
   ]
  },
  {
   "cell_type": "code",
   "execution_count": 1,
   "id": "edf32c92",
   "metadata": {},
   "outputs": [],
   "source": [
    "import pyttsx3"
   ]
  },
  {
   "cell_type": "code",
   "execution_count": 2,
   "id": "b579ab0a",
   "metadata": {},
   "outputs": [],
   "source": [
    "# text to speech\n",
    "engine = pyttsx3.init('sapi5')\n",
    "voices = engine.getProperty('voices')\n",
    "engine.setProperty('voices',voices[0].id)\n",
    "\n",
    "def speak(text):\n",
    "    engine.say(text)\n",
    "    print(text)\n",
    "    engine.runAndWait()"
   ]
  },
  {
   "cell_type": "code",
   "execution_count": 3,
   "id": "786acb4a",
   "metadata": {},
   "outputs": [
    {
     "name": "stdout",
     "output_type": "stream",
     "text": [
      "hello sukaran\n"
     ]
    }
   ],
   "source": [
    "speak(\"hello sukaran\")"
   ]
  },
  {
   "cell_type": "code",
   "execution_count": null,
   "id": "88aeb7e3",
   "metadata": {},
   "outputs": [],
   "source": []
  },
  {
   "cell_type": "code",
   "execution_count": null,
   "id": "8c357e9f",
   "metadata": {},
   "outputs": [],
   "source": []
  },
  {
   "cell_type": "markdown",
   "id": "9d7f6e80",
   "metadata": {},
   "source": [
    "## introduction"
   ]
  },
  {
   "cell_type": "code",
   "execution_count": 4,
   "id": "b017cd6c",
   "metadata": {},
   "outputs": [],
   "source": [
    "import datetime\n",
    "\n",
    "def wish():\n",
    "    hour = int(datetime.datetime.now().hour)\n",
    "\n",
    "    if hour >= 6 and hour <= 12:\n",
    "        speak(\"Good morning\")\n",
    "    elif hour > 12 and hour < 18:\n",
    "        speak(\"Good afternoon\")\n",
    "    else:\n",
    "        speak(\"Good evening\")\n",
    "    \n",
    "    speak(\"I am your wikipedia assistant, what do you want to search\")"
   ]
  },
  {
   "cell_type": "code",
   "execution_count": 5,
   "id": "45bad2f4",
   "metadata": {},
   "outputs": [
    {
     "name": "stdout",
     "output_type": "stream",
     "text": [
      "Good evening\n",
      "I am your wikipedia assistant, what do you want to search\n"
     ]
    }
   ],
   "source": [
    "wish()"
   ]
  },
  {
   "cell_type": "code",
   "execution_count": null,
   "id": "bf54ed5b",
   "metadata": {},
   "outputs": [],
   "source": []
  },
  {
   "cell_type": "markdown",
   "id": "2123b1b2",
   "metadata": {},
   "source": [
    "## speech recognition"
   ]
  },
  {
   "cell_type": "code",
   "execution_count": 6,
   "id": "94eee8ce",
   "metadata": {},
   "outputs": [],
   "source": [
    "import speech_recognition as sr"
   ]
  },
  {
   "cell_type": "code",
   "execution_count": 7,
   "id": "317f4358",
   "metadata": {},
   "outputs": [],
   "source": [
    "def takecommand():\n",
    "    r = sr.Recognizer()\n",
    "    with sr.Microphone() as source:\n",
    "        r.adjust_for_ambient_noise(source,duration=1)\n",
    "        print(\"listening...\")\n",
    "        r.pause_threshold = 1\n",
    "        audio = r.listen(source)\n",
    "    try:\n",
    "        print(\"Recognizing...\")\n",
    "        query = r.recognize_google(audio,language='en-in')\n",
    "        print(f\"user said {query}\")\n",
    "    except Exception as e:\n",
    "        speak(\"Sorry could not recognise,try again\")\n",
    "        takecommand()\n",
    "    return query"
   ]
  },
  {
   "cell_type": "code",
   "execution_count": null,
   "id": "bf8cc0c9",
   "metadata": {},
   "outputs": [],
   "source": []
  },
  {
   "cell_type": "code",
   "execution_count": null,
   "id": "c9d43a61",
   "metadata": {},
   "outputs": [],
   "source": []
  },
  {
   "cell_type": "code",
   "execution_count": null,
   "id": "7f99729d",
   "metadata": {},
   "outputs": [],
   "source": []
  },
  {
   "cell_type": "markdown",
   "id": "39fc8e07",
   "metadata": {},
   "source": [
    "### navigation starts"
   ]
  },
  {
   "cell_type": "code",
   "execution_count": 8,
   "id": "1147880e",
   "metadata": {},
   "outputs": [],
   "source": [
    "import time"
   ]
  },
  {
   "cell_type": "code",
   "execution_count": 9,
   "id": "6a5d0d23",
   "metadata": {},
   "outputs": [],
   "source": [
    "from selenium import webdriver\n",
    "from selenium.webdriver.chrome.service import Service\n",
    "from webdriver_manager.chrome import ChromeDriverManager\n",
    "from selenium.webdriver.common.by import By\n",
    "from selenium.webdriver.common.keys import Keys\n",
    "from selenium.webdriver.common.action_chains import ActionChains\n",
    "from bs4 import BeautifulSoup"
   ]
  },
  {
   "cell_type": "code",
   "execution_count": null,
   "id": "bc0ba1a1",
   "metadata": {},
   "outputs": [],
   "source": []
  },
  {
   "cell_type": "code",
   "execution_count": 10,
   "id": "6e6b604b",
   "metadata": {},
   "outputs": [
    {
     "name": "stderr",
     "output_type": "stream",
     "text": [
      "[WDM] - \n",
      "\n",
      "[WDM] - ====== WebDriver manager ======\n",
      "[WDM] - Current google-chrome version is 95.0.4638\n",
      "[WDM] - Get LATEST driver version for 95.0.4638\n",
      "[WDM] - Driver [C:\\Users\\Sukaran\\.wdm\\drivers\\chromedriver\\win32\\95.0.4638.17\\chromedriver.exe] found in cache\n"
     ]
    }
   ],
   "source": [
    "# create window for navigation\n",
    "\n",
    "s=Service(ChromeDriverManager().install())\n",
    "driver = webdriver.Chrome(service=s)\n",
    "# driver.maximize_window()"
   ]
  },
  {
   "cell_type": "code",
   "execution_count": null,
   "id": "01f95320",
   "metadata": {},
   "outputs": [],
   "source": []
  },
  {
   "cell_type": "markdown",
   "id": "f5eb5c18",
   "metadata": {},
   "source": [
    "## go to main wikipedia page"
   ]
  },
  {
   "cell_type": "code",
   "execution_count": 11,
   "id": "b9fcc30b",
   "metadata": {},
   "outputs": [],
   "source": [
    "def search_page():\n",
    "    driver.get(\"https://www.wikipedia.org\")\n",
    "    time.sleep(1)"
   ]
  },
  {
   "cell_type": "code",
   "execution_count": null,
   "id": "44f7aa6d",
   "metadata": {},
   "outputs": [],
   "source": []
  },
  {
   "cell_type": "markdown",
   "id": "15480727",
   "metadata": {},
   "source": [
    "## search something"
   ]
  },
  {
   "cell_type": "code",
   "execution_count": 12,
   "id": "c119d830",
   "metadata": {},
   "outputs": [],
   "source": [
    "def search_wikipedia(text):\n",
    "    search_bar = driver.find_element_by_id(\"searchInput\")\n",
    "    search_bar.clear()\n",
    "    time.sleep(1)\n",
    "    search_bar.send_keys(\"sachin tendulkar\")\n",
    "    search_bar.send_keys(Keys.RETURN)"
   ]
  },
  {
   "cell_type": "code",
   "execution_count": null,
   "id": "4802e070",
   "metadata": {},
   "outputs": [],
   "source": []
  },
  {
   "cell_type": "code",
   "execution_count": null,
   "id": "1416ca5e",
   "metadata": {},
   "outputs": [],
   "source": []
  },
  {
   "cell_type": "markdown",
   "id": "a7cf35f0",
   "metadata": {},
   "source": [
    "## move up and down"
   ]
  },
  {
   "cell_type": "code",
   "execution_count": 13,
   "id": "a8d7938c",
   "metadata": {},
   "outputs": [],
   "source": [
    "def move_down():\n",
    "    driver.execute_script(\"window.scrollTo(0, window.scrollY + 300)\")"
   ]
  },
  {
   "cell_type": "code",
   "execution_count": 14,
   "id": "03de63c7",
   "metadata": {},
   "outputs": [],
   "source": [
    "def move_up():\n",
    "    driver.execute_script(\"window.scrollTo(0, window.scrollY - 300)\")"
   ]
  },
  {
   "cell_type": "code",
   "execution_count": null,
   "id": "f23ad3a0",
   "metadata": {},
   "outputs": [],
   "source": []
  },
  {
   "cell_type": "markdown",
   "id": "1e0826cb",
   "metadata": {},
   "source": [
    "## parsing html "
   ]
  },
  {
   "cell_type": "code",
   "execution_count": 15,
   "id": "d023f721",
   "metadata": {},
   "outputs": [],
   "source": [
    "def getAllContent():\n",
    "    allHtmlContent = driver.page_source\n",
    "    htmlContent = BeautifulSoup(allHtmlContent)\n",
    "    reqHtmlContent = htmlContent.find(class_ = \"mw-parser-output\")\n",
    "    all_links = list(reqHtmlContent.find_all('a'))\n",
    "    all_headings = list(reqHtmlContent.find_all(['h2','h3']))\n",
    "    all_paras = list(reqHtmlContent.find_all('p'))\n",
    "    all_images = list(reqHtmlContent.find_all('img'))\n",
    "    \n",
    "    return all_links,all_headings,all_paras,all_images"
   ]
  },
  {
   "cell_type": "code",
   "execution_count": null,
   "id": "6cbb95e5",
   "metadata": {},
   "outputs": [],
   "source": []
  },
  {
   "cell_type": "code",
   "execution_count": null,
   "id": "aa51bfa3",
   "metadata": {},
   "outputs": [],
   "source": []
  },
  {
   "cell_type": "code",
   "execution_count": null,
   "id": "3ef229f4",
   "metadata": {},
   "outputs": [],
   "source": []
  },
  {
   "cell_type": "markdown",
   "id": "bfafc3b3",
   "metadata": {},
   "source": [
    "## web page statistics"
   ]
  },
  {
   "cell_type": "code",
   "execution_count": 16,
   "id": "6bb0a9a0",
   "metadata": {},
   "outputs": [],
   "source": [
    "def webPageStats():\n",
    "    page_title = driver.find_element_by_id(\"firstHeading\").text.replace(' ','_')\n",
    "    stats_url = f\"https://pageviews.toolforge.org/?project=en.wikipedia.org&platform=all-access&agent=user&redirects=0&range=latest-20&pages={page_title}\"\n",
    "    driver.execute_script(\"window.open('');\")\n",
    "    driver.switch_to.window(driver.window_handles[1])\n",
    "    driver.get(stats_url)\n",
    "    time.sleep(2)\n",
    "    stats_list = driver.find_elements_by_class_name(\"linear-legend--counts\")\n",
    "    stats_string = ''\n",
    "    for i in stats_list:\n",
    "        if i.text != '':\n",
    "            stats_string += i.text.rstrip() + \"\\n\"\n",
    "#     print(stats_string)\n",
    "    speak(stats_string)\n",
    "    driver.close()\n",
    "    driver.switch_to.window(driver.window_handles[0])"
   ]
  },
  {
   "cell_type": "code",
   "execution_count": null,
   "id": "07842fbb",
   "metadata": {},
   "outputs": [],
   "source": []
  },
  {
   "cell_type": "code",
   "execution_count": null,
   "id": "a62dec38",
   "metadata": {},
   "outputs": [],
   "source": []
  },
  {
   "cell_type": "code",
   "execution_count": null,
   "id": "d936c2a6",
   "metadata": {},
   "outputs": [],
   "source": []
  },
  {
   "cell_type": "code",
   "execution_count": null,
   "id": "4953f03a",
   "metadata": {},
   "outputs": [],
   "source": []
  },
  {
   "cell_type": "code",
   "execution_count": null,
   "id": "db674ab2",
   "metadata": {},
   "outputs": [],
   "source": []
  },
  {
   "cell_type": "code",
   "execution_count": 17,
   "id": "6efbeb21",
   "metadata": {},
   "outputs": [],
   "source": [
    "search_page()"
   ]
  },
  {
   "cell_type": "code",
   "execution_count": null,
   "id": "c84f1dba",
   "metadata": {},
   "outputs": [],
   "source": []
  },
  {
   "cell_type": "code",
   "execution_count": 20,
   "id": "c91f3955",
   "metadata": {},
   "outputs": [],
   "source": [
    "while True:\n",
    "    query = ''\n",
    "    query = takecommand().lower()\n",
    "\n",
    "    if  \"search page\" in query:\n",
    "        search_page()\n",
    "        time.sleep(1)\n",
    "        \n",
    "    if \"wikipedia\" in query:\n",
    "        speak(\"searching wikipedia\")\n",
    "        query = query.replace(\"wikipedia\",\"\")\n",
    "        search_wikipedia(query)\n",
    "        \n",
    "        # Scrapping content from wikipedia\n",
    "        all_links,all_headings,all_paras,all_images = getAllContent()\n",
    "        \n",
    "        # initially\n",
    "        curr_link = all_links[0]\n",
    "        curr_heading = all_headings[1]\n",
    "        curr_para = all_paras[0]\n",
    "        curr_image = all_images[0]\n",
    "        \n",
    "        # length of all contents\n",
    "        all_link_len = len(all_links)\n",
    "        all_heading_len = len(all_headings)\n",
    "        all_para_len = len(all_paras)\n",
    "        all_image_len = len(all_images)\n",
    "        \n",
    "        \n",
    "        while True:\n",
    "            \n",
    "            \n",
    "            #move up\n",
    "            if \"move up\" or \"up\" in query:\n",
    "                move_up()\n",
    "                \n",
    "            # move down\n",
    "            elif \"move down\" or \"down\" in query:\n",
    "                move_down()\n",
    "            \n",
    "            # web page statistics\n",
    "            elif \"stats\" or \"statistics\" in query: \n",
    "                webPageStats()\n",
    "                time.sleep(2)\n",
    "                \n",
    "            # next link\n",
    "            elif \"next link\" in query:\n",
    "                curr_link_index = all_links.index(curr_link)\n",
    "                if curr_link_index < all_links_len:\n",
    "                    curr_link_index += 1\n",
    "                    curr_link = all_links[curr_link_index]\n",
    "                \n",
    "                # locating link in opened tab\n",
    "                ActionChains(driver).move_to_element(driver.find_element_by_link_text(curr_link.get_text())).perform()\n",
    "                time.sleep(1)\n",
    "                speak(curr_link.get_text())\n",
    "\n",
    "                \n",
    "            # prev link\n",
    "            elif \"previous link\" in query:\n",
    "                curr_link_index = all_links.index(curr_link)\n",
    "                if curr_link_index > 0:\n",
    "                    curr_link_index -= 1\n",
    "                    curr_link = all_links[curr_link_index]\n",
    "                    \n",
    "                # locating link in opened tab                \n",
    "                speak(curr_link.get_text())\n",
    "                ActionChains(driver).move_to_element(driver.find_element_by_link_text(curr_link.get_text())).perform()\n",
    "                time.sleep(1)\n",
    "            \n",
    "            \n",
    "            #next heading\n",
    "            elif \"next heading\" in query:\n",
    "                curr_heading_index = all_headings.index(curr_heading)\n",
    "                if curr_heading_index < all_headings_len:\n",
    "                    curr_heading_index += 1\n",
    "                    curr_heading = all_headings[curr_heading_index]\n",
    "\n",
    "                    \n",
    "                #locating heading in tab\n",
    "                speak(curr_heading.get_text())\n",
    "                curr_heading_id = curr_heading.get_text().replace(\" \",\"_\").replace(\"[edit]\",'')\n",
    "                ActionChains(driver).move_to_element(driver.find_element_by_id(curr_heading_id)).perform()\n",
    "                time.sleep(1)\n",
    "           \n",
    "        \n",
    "        \n",
    "            # prev heading\n",
    "            elif \"previous heading\" in query:\n",
    "                curr_heading_index = all_headings.index(curr_heading)\n",
    "                if curr_heading_index > 1:\n",
    "                    curr_heading_index -= 1\n",
    "                    curr_heading = all_headings[curr_heading_index]\n",
    "\n",
    "                #locating heading in tab\n",
    "                speak(curr_heading.get_text())\n",
    "                curr_heading_id = curr_heading.get_text().replace(\" \",\"_\").replace(\"[edit]\",'')\n",
    "                ActionChains(driver).move_to_element(driver.find_element_by_id(curr_heading_id)).perform()\n",
    "                time.sleep(1)\n",
    "            \n",
    "\n",
    "    time.sleep(2)\n",
    "    speak(\"Sir do you have any work\")"
   ]
  },
  {
   "cell_type": "code",
   "execution_count": null,
   "id": "7b7017ff",
   "metadata": {},
   "outputs": [],
   "source": [
    "move_up()"
   ]
  },
  {
   "cell_type": "code",
   "execution_count": null,
   "id": "1d85b39c",
   "metadata": {},
   "outputs": [],
   "source": []
  }
 ],
 "metadata": {
  "kernelspec": {
   "display_name": "Python 3 (ipykernel)",
   "language": "python",
   "name": "python3"
  },
  "language_info": {
   "codemirror_mode": {
    "name": "ipython",
    "version": 3
   },
   "file_extension": ".py",
   "mimetype": "text/x-python",
   "name": "python",
   "nbconvert_exporter": "python",
   "pygments_lexer": "ipython3",
   "version": "3.10.0"
  }
 },
 "nbformat": 4,
 "nbformat_minor": 5
}
