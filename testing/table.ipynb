{
 "cells": [
  {
   "cell_type": "code",
   "execution_count": 1,
   "metadata": {},
   "outputs": [],
   "source": [
    "import pandas as pd # library for data analysis\n",
    "import requests # library to handle requests\n",
    "from bs4 import BeautifulSoup # library to parse HTML documents"
   ]
  },
  {
   "cell_type": "code",
   "execution_count": 2,
   "metadata": {},
   "outputs": [
    {
     "name": "stdout",
     "output_type": "stream",
     "text": [
      "200\n"
     ]
    }
   ],
   "source": [
    "wikiurl=\"https://en.wikipedia.org/wiki/Sachin_Tendulkar\"\n",
    "table_class=\"wikitable sortable jquery-tablesorter\"\n",
    "response=requests.get(wikiurl)\n",
    "print(response.status_code)"
   ]
  },
  {
   "cell_type": "code",
   "execution_count": 16,
   "metadata": {},
   "outputs": [
    {
     "data": {
      "text/plain": [
       "[<table class=\"wikitable\" style=\"float: right; margin-left: 1em; width: 40%; font-size: 90%;\">\n",
       " <tbody><tr>\n",
       " <th colspan=\"8\">Tendulkar's record as captain\n",
       " </th></tr>\n",
       " <tr>\n",
       " <td> </td>\n",
       " <td>Matches</td>\n",
       " <td>Won</td>\n",
       " <td>Lost</td>\n",
       " <td>Drawn</td>\n",
       " <td>Tied</td>\n",
       " <td>No result</td>\n",
       " <td>Win %\n",
       " </td></tr>\n",
       " <tr>\n",
       " <td>Test<sup class=\"reference\" id=\"cite_ref-109\"><a href=\"#cite_note-109\">[108]</a></sup></td>\n",
       " <td>25</td>\n",
       " <td>4</td>\n",
       " <td>9</td>\n",
       " <td>12</td>\n",
       " <td>0</td>\n",
       " <td>–</td>\n",
       " <td>16%\n",
       " </td></tr>\n",
       " <tr>\n",
       " <td>ODI<sup class=\"reference\" id=\"cite_ref-110\"><a href=\"#cite_note-110\">[109]</a></sup></td>\n",
       " <td>73</td>\n",
       " <td>23</td>\n",
       " <td>43</td>\n",
       " <td>–</td>\n",
       " <td>2</td>\n",
       " <td>6</td>\n",
       " <td>31.50%\n",
       " </td></tr></tbody></table>,\n",
       " <table class=\"wikitable\" style=\"float:right; margin-left:1em; width:50%;\">\n",
       " <tbody><tr>\n",
       " <th colspan=\"7\">Sachin Tendulkar's Test cricket record<sup class=\"reference\" id=\"cite_ref-188\"><a href=\"#cite_note-188\">[187]</a></sup>\n",
       " </th></tr>\n",
       " <tr>\n",
       " <td> </td>\n",
       " <td>Matches</td>\n",
       " <td>Runs</td>\n",
       " <td>Best</td>\n",
       " <td>Average</td>\n",
       " <td>100s</td>\n",
       " <td>50s\n",
       " </td></tr>\n",
       " <tr>\n",
       " <td>Home</td>\n",
       " <td>94</td>\n",
       " <td>7216</td>\n",
       " <td>217</td>\n",
       " <td>52.67</td>\n",
       " <td>22</td>\n",
       " <td>32\n",
       " </td></tr>\n",
       " <tr>\n",
       " <td>Away</td>\n",
       " <td>106</td>\n",
       " <td>8705</td>\n",
       " <td>248*</td>\n",
       " <td>54.74</td>\n",
       " <td>29</td>\n",
       " <td>36\n",
       " </td></tr></tbody></table>,\n",
       " <table class=\"wikitable\" style=\"float:right; margin-left:1em; width:50%;\">\n",
       " <tbody><tr>\n",
       " <th colspan=\"7\">Tendulkar's results in international matches<sup class=\"reference\" id=\"cite_ref-Cricinfo_251-0\"><a href=\"#cite_note-Cricinfo-251\">[249]</a></sup>\n",
       " </th></tr>\n",
       " <tr>\n",
       " <td> </td>\n",
       " <td>Matches</td>\n",
       " <td>Won</td>\n",
       " <td>Lost</td>\n",
       " <td>Drawn</td>\n",
       " <td>Tied</td>\n",
       " <td>No result\n",
       " </td></tr>\n",
       " <tr>\n",
       " <td>Test<sup class=\"reference\" id=\"cite_ref-252\"><a href=\"#cite_note-252\">[250]</a></sup></td>\n",
       " <td>200</td>\n",
       " <td>72</td>\n",
       " <td>56</td>\n",
       " <td>72</td>\n",
       " <td>0</td>\n",
       " <td>–\n",
       " </td></tr>\n",
       " <tr>\n",
       " <td>ODI<sup class=\"reference\" id=\"cite_ref-253\"><a href=\"#cite_note-253\">[251]</a></sup></td>\n",
       " <td>463</td>\n",
       " <td>234</td>\n",
       " <td>200</td>\n",
       " <td>–</td>\n",
       " <td>5</td>\n",
       " <td>24\n",
       " </td></tr>\n",
       " <tr>\n",
       " <td>T20I<sup class=\"reference\" id=\"cite_ref-254\"><a href=\"#cite_note-254\">[252]</a></sup></td>\n",
       " <td>1</td>\n",
       " <td>1</td>\n",
       " <td>–</td>\n",
       " <td>–</td>\n",
       " <td>–</td>\n",
       " <td>–\n",
       " </td></tr></tbody></table>,\n",
       " <table class=\"wikitable\" style=\"font-size:90%; float:right; clear:right; text-align:right; margin-left:15px\">\n",
       " <caption>Centuries against different nations\n",
       " </caption>\n",
       " <tbody><tr>\n",
       " <th scope=\"col\">\n",
       " </th>\n",
       " <th scope=\"col\">Test\n",
       " </th>\n",
       " <th scope=\"col\">ODI\n",
       " </th></tr>\n",
       " <tr>\n",
       " <th scope=\"row\" style=\"text-align: left\"><span class=\"flagicon\"><img alt=\"\" class=\"thumbborder\" data-file-height=\"640\" data-file-width=\"1280\" decoding=\"async\" height=\"12\" src=\"//upload.wikimedia.org/wikipedia/commons/thumb/8/88/Flag_of_Australia_%28converted%29.svg/23px-Flag_of_Australia_%28converted%29.svg.png\" srcset=\"//upload.wikimedia.org/wikipedia/commons/thumb/8/88/Flag_of_Australia_%28converted%29.svg/35px-Flag_of_Australia_%28converted%29.svg.png 1.5x, //upload.wikimedia.org/wikipedia/commons/thumb/8/88/Flag_of_Australia_%28converted%29.svg/46px-Flag_of_Australia_%28converted%29.svg.png 2x\" width=\"23\"/> </span><a href=\"/wiki/Australia_national_cricket_team\" title=\"Australia national cricket team\">Australia</a>\n",
       " </th>\n",
       " <td>11</td>\n",
       " <td>9\n",
       " </td></tr>\n",
       " <tr>\n",
       " <th scope=\"row\" style=\"text-align: left\"><span class=\"flagicon\"><img alt=\"\" class=\"thumbborder\" data-file-height=\"600\" data-file-width=\"1200\" decoding=\"async\" height=\"12\" src=\"//upload.wikimedia.org/wikipedia/commons/thumb/1/11/Flag_of_Sri_Lanka.svg/23px-Flag_of_Sri_Lanka.svg.png\" srcset=\"//upload.wikimedia.org/wikipedia/commons/thumb/1/11/Flag_of_Sri_Lanka.svg/35px-Flag_of_Sri_Lanka.svg.png 1.5x, //upload.wikimedia.org/wikipedia/commons/thumb/1/11/Flag_of_Sri_Lanka.svg/46px-Flag_of_Sri_Lanka.svg.png 2x\" width=\"23\"/> </span><a href=\"/wiki/Sri_Lanka_national_cricket_team\" title=\"Sri Lanka national cricket team\">Sri Lanka</a>\n",
       " </th>\n",
       " <td>9</td>\n",
       " <td>8\n",
       " </td></tr>\n",
       " <tr>\n",
       " <th scope=\"row\" style=\"text-align: left\"><span class=\"flagicon\"><img alt=\"\" class=\"thumbborder\" data-file-height=\"267\" data-file-width=\"400\" decoding=\"async\" height=\"15\" src=\"//upload.wikimedia.org/wikipedia/commons/thumb/a/af/Flag_of_South_Africa.svg/23px-Flag_of_South_Africa.svg.png\" srcset=\"//upload.wikimedia.org/wikipedia/commons/thumb/a/af/Flag_of_South_Africa.svg/35px-Flag_of_South_Africa.svg.png 1.5x, //upload.wikimedia.org/wikipedia/commons/thumb/a/af/Flag_of_South_Africa.svg/45px-Flag_of_South_Africa.svg.png 2x\" width=\"23\"/> </span><a href=\"/wiki/South_Africa_national_cricket_team\" title=\"South Africa national cricket team\">South Africa</a>\n",
       " </th>\n",
       " <td>7</td>\n",
       " <td>5\n",
       " </td></tr>\n",
       " <tr>\n",
       " <th scope=\"row\" style=\"text-align: left\"><span class=\"flagicon\"><img alt=\"\" class=\"thumbborder\" data-file-height=\"480\" data-file-width=\"800\" decoding=\"async\" height=\"14\" src=\"//upload.wikimedia.org/wikipedia/en/thumb/b/be/Flag_of_England.svg/23px-Flag_of_England.svg.png\" srcset=\"//upload.wikimedia.org/wikipedia/en/thumb/b/be/Flag_of_England.svg/35px-Flag_of_England.svg.png 1.5x, //upload.wikimedia.org/wikipedia/en/thumb/b/be/Flag_of_England.svg/46px-Flag_of_England.svg.png 2x\" width=\"23\"/> </span><a href=\"/wiki/England_cricket_team\" title=\"England cricket team\">England</a>\n",
       " </th>\n",
       " <td>7</td>\n",
       " <td>2\n",
       " </td></tr>\n",
       " <tr>\n",
       " <th scope=\"row\" style=\"text-align: left\"><span class=\"flagicon\"><img alt=\"\" class=\"thumbborder\" data-file-height=\"600\" data-file-width=\"1200\" decoding=\"async\" height=\"12\" src=\"//upload.wikimedia.org/wikipedia/commons/thumb/3/3e/Flag_of_New_Zealand.svg/23px-Flag_of_New_Zealand.svg.png\" srcset=\"//upload.wikimedia.org/wikipedia/commons/thumb/3/3e/Flag_of_New_Zealand.svg/35px-Flag_of_New_Zealand.svg.png 1.5x, //upload.wikimedia.org/wikipedia/commons/thumb/3/3e/Flag_of_New_Zealand.svg/46px-Flag_of_New_Zealand.svg.png 2x\" width=\"23\"/> </span><a href=\"/wiki/New_Zealand_national_cricket_team\" title=\"New Zealand national cricket team\">New Zealand</a>\n",
       " </th>\n",
       " <td>4</td>\n",
       " <td>5\n",
       " </td></tr>\n",
       " <tr>\n",
       " <th scope=\"row\" style=\"text-align: left\"><span class=\"flagicon\"><img alt=\"\" class=\"thumbborder\" data-file-height=\"309\" data-file-width=\"486\" decoding=\"async\" height=\"15\" src=\"//upload.wikimedia.org/wikipedia/commons/thumb/1/18/WestIndiesCricketFlagPre1999.svg/23px-WestIndiesCricketFlagPre1999.svg.png\" srcset=\"//upload.wikimedia.org/wikipedia/commons/thumb/1/18/WestIndiesCricketFlagPre1999.svg/35px-WestIndiesCricketFlagPre1999.svg.png 1.5x, //upload.wikimedia.org/wikipedia/commons/thumb/1/18/WestIndiesCricketFlagPre1999.svg/46px-WestIndiesCricketFlagPre1999.svg.png 2x\" width=\"23\"/> </span><a href=\"/wiki/West_Indies_cricket_team\" title=\"West Indies cricket team\">West Indies</a>\n",
       " </th>\n",
       " <td>3</td>\n",
       " <td>4\n",
       " </td></tr>\n",
       " <tr>\n",
       " <th scope=\"row\" style=\"text-align: left\"><span class=\"flagicon\"><img alt=\"\" class=\"thumbborder\" data-file-height=\"630\" data-file-width=\"1260\" decoding=\"async\" height=\"12\" src=\"//upload.wikimedia.org/wikipedia/commons/thumb/6/6a/Flag_of_Zimbabwe.svg/23px-Flag_of_Zimbabwe.svg.png\" srcset=\"//upload.wikimedia.org/wikipedia/commons/thumb/6/6a/Flag_of_Zimbabwe.svg/35px-Flag_of_Zimbabwe.svg.png 1.5x, //upload.wikimedia.org/wikipedia/commons/thumb/6/6a/Flag_of_Zimbabwe.svg/46px-Flag_of_Zimbabwe.svg.png 2x\" width=\"23\"/> </span><a href=\"/wiki/Zimbabwe_national_cricket_team\" title=\"Zimbabwe national cricket team\">Zimbabwe</a>\n",
       " </th>\n",
       " <td>3</td>\n",
       " <td>5\n",
       " </td></tr>\n",
       " <tr>\n",
       " <th scope=\"row\" style=\"text-align: left\"><span class=\"flagicon\"><img alt=\"\" class=\"thumbborder\" data-file-height=\"600\" data-file-width=\"900\" decoding=\"async\" height=\"15\" src=\"//upload.wikimedia.org/wikipedia/commons/thumb/3/32/Flag_of_Pakistan.svg/23px-Flag_of_Pakistan.svg.png\" srcset=\"//upload.wikimedia.org/wikipedia/commons/thumb/3/32/Flag_of_Pakistan.svg/35px-Flag_of_Pakistan.svg.png 1.5x, //upload.wikimedia.org/wikipedia/commons/thumb/3/32/Flag_of_Pakistan.svg/45px-Flag_of_Pakistan.svg.png 2x\" width=\"23\"/> </span><a href=\"/wiki/Pakistan_national_cricket_team\" title=\"Pakistan national cricket team\">Pakistan</a>\n",
       " </th>\n",
       " <td>2</td>\n",
       " <td>5\n",
       " </td></tr>\n",
       " <tr>\n",
       " <th scope=\"row\" style=\"text-align: left\"><span class=\"flagicon\"><img alt=\"\" class=\"thumbborder\" data-file-height=\"600\" data-file-width=\"1000\" decoding=\"async\" height=\"14\" src=\"//upload.wikimedia.org/wikipedia/commons/thumb/f/f9/Flag_of_Bangladesh.svg/23px-Flag_of_Bangladesh.svg.png\" srcset=\"//upload.wikimedia.org/wikipedia/commons/thumb/f/f9/Flag_of_Bangladesh.svg/35px-Flag_of_Bangladesh.svg.png 1.5x, //upload.wikimedia.org/wikipedia/commons/thumb/f/f9/Flag_of_Bangladesh.svg/46px-Flag_of_Bangladesh.svg.png 2x\" width=\"23\"/> </span><a href=\"/wiki/Bangladesh_national_cricket_team\" title=\"Bangladesh national cricket team\">Bangladesh</a>\n",
       " </th>\n",
       " <td>5</td>\n",
       " <td>1\n",
       " </td></tr>\n",
       " <tr>\n",
       " <th scope=\"row\" style=\"text-align: left\"><span class=\"flagicon\"><img alt=\"\" class=\"thumbborder\" data-file-height=\"600\" data-file-width=\"900\" decoding=\"async\" height=\"15\" src=\"//upload.wikimedia.org/wikipedia/commons/thumb/4/49/Flag_of_Kenya.svg/23px-Flag_of_Kenya.svg.png\" srcset=\"//upload.wikimedia.org/wikipedia/commons/thumb/4/49/Flag_of_Kenya.svg/35px-Flag_of_Kenya.svg.png 1.5x, //upload.wikimedia.org/wikipedia/commons/thumb/4/49/Flag_of_Kenya.svg/45px-Flag_of_Kenya.svg.png 2x\" width=\"23\"/> </span><a href=\"/wiki/Kenya_national_cricket_team\" title=\"Kenya national cricket team\">Kenya</a>\n",
       " </th>\n",
       " <td><small>NA</small></td>\n",
       " <td>4\n",
       " </td></tr>\n",
       " <tr>\n",
       " <th scope=\"row\" style=\"text-align: left\"><span class=\"flagicon\"><img alt=\"\" class=\"thumbborder\" data-file-height=\"600\" data-file-width=\"900\" decoding=\"async\" height=\"15\" src=\"//upload.wikimedia.org/wikipedia/commons/thumb/0/00/Flag_of_Namibia.svg/23px-Flag_of_Namibia.svg.png\" srcset=\"//upload.wikimedia.org/wikipedia/commons/thumb/0/00/Flag_of_Namibia.svg/35px-Flag_of_Namibia.svg.png 1.5x, //upload.wikimedia.org/wikipedia/commons/thumb/0/00/Flag_of_Namibia.svg/45px-Flag_of_Namibia.svg.png 2x\" width=\"23\"/> </span><a href=\"/wiki/Namibia_national_cricket_team\" title=\"Namibia national cricket team\">Namibia</a>\n",
       " </th>\n",
       " <td><small>NA</small></td>\n",
       " <td>1\n",
       " </td></tr></tbody></table>,\n",
       " <table class=\"wikitable\">\n",
       " <tbody><tr>\n",
       " <th>Film name\n",
       " </th>\n",
       " <th>Director\n",
       " </th>\n",
       " <th>Year\n",
       " </th>\n",
       " <th>Notes\n",
       " </th></tr>\n",
       " <tr>\n",
       " <td><a href=\"/wiki/Sachin:_A_Billion_Dreams\" title=\"Sachin: A Billion Dreams\">Sachin: A billion dreams</a>\n",
       " </td>\n",
       " <td>James Erskine\n",
       " </td>\n",
       " <td>2017\n",
       " </td>\n",
       " <td>Docudrama film<sup class=\"reference\" id=\"cite_ref-492\"><a href=\"#cite_note-492\">[490]</a></sup>\n",
       " <p><sup class=\"reference\" id=\"cite_ref-493\"><a href=\"#cite_note-493\">[491]</a></sup>\n",
       " </p>\n",
       " </td></tr></tbody></table>,\n",
       " <table class=\"wikitable succession-box noprint\" style=\"margin:0.5em auto; font-size:95%;clear:both;\">\n",
       " <tbody><tr style=\"text-align:center;\">\n",
       " <td rowspan=\"1\" style=\"width:30%;\">Preceded by<div style=\"font-weight: bold\"><a href=\"/wiki/Lance_Klusener\" title=\"Lance Klusener\">Lance Klusener</a></div>\n",
       " </td>\n",
       " <td rowspan=\"1\" style=\"width: 40%; text-align: center;\"><b> <a href=\"/wiki/Player_of_the_Match_awards_(cricket)\" title=\"Player of the Match awards (cricket)\">World Cup Player of the Series</a> winner </b><br/>2003\n",
       " </td>\n",
       " <td rowspan=\"1\" style=\"width: 30%; text-align: center;\">Succeeded by<div style=\"font-weight: bold\"><a href=\"/wiki/Glenn_McGrath\" title=\"Glenn McGrath\">Glenn McGrath</a></div>\n",
       " </td></tr>\n",
       " </tbody></table>,\n",
       " <table class=\"wikitable succession-box mw-collapsible autocollapse\" style=\"margin: 0 auto 0 auto; font-size:95%;clear:both;\">\n",
       " <tbody><tr>\n",
       " <th colspan=\"3\" style=\"border-top: 5px solid #FFF179;\">Awards and achievements\n",
       " </th></tr>\n",
       " <tr style=\"text-align:center;\">\n",
       " <td rowspan=\"1\" style=\"width:30%;\">Preceded by<div style=\"font-weight: bold\"><a href=\"/wiki/Anil_Kumble\" title=\"Anil Kumble\">Anil Kumble</a></div>\n",
       " </td>\n",
       " <td rowspan=\"1\" style=\"width: 40%; text-align: center;\"><b> Indian Awardees of <a class=\"mw-redirect\" href=\"/wiki/Wisden_Cricketer_of_the_Year\" title=\"Wisden Cricketer of the Year\">Wisden Cricketer of the Year</a> </b><br/>1997\n",
       " </td>\n",
       " <td rowspan=\"1\" style=\"width: 30%; text-align: center;\">Succeeded by<div style=\"font-weight: bold\"><a href=\"/wiki/Rahul_Dravid\" title=\"Rahul Dravid\">Rahul Dravid</a></div>\n",
       " </td></tr>\n",
       " </tbody></table>]"
      ]
     },
     "execution_count": 16,
     "metadata": {},
     "output_type": "execute_result"
    }
   ],
   "source": [
    "soup = BeautifulSoup(response.text, 'html.parser')\n",
    "all_tables=soup.find_all('table',{'class':\"wikitable\"})\n",
    "all_tables"
   ]
  },
  {
   "cell_type": "code",
   "execution_count": 43,
   "metadata": {},
   "outputs": [
    {
     "data": {
      "text/html": [
       "<div>\n",
       "<style scoped>\n",
       "    .dataframe tbody tr th:only-of-type {\n",
       "        vertical-align: middle;\n",
       "    }\n",
       "\n",
       "    .dataframe tbody tr th {\n",
       "        vertical-align: top;\n",
       "    }\n",
       "\n",
       "    .dataframe thead th {\n",
       "        text-align: right;\n",
       "    }\n",
       "</style>\n",
       "<table border=\"1\" class=\"dataframe\">\n",
       "  <thead>\n",
       "    <tr style=\"text-align: right;\">\n",
       "      <th></th>\n",
       "      <th>Awards and achievements</th>\n",
       "      <th>Awards and achievements.1</th>\n",
       "      <th>Awards and achievements.2</th>\n",
       "    </tr>\n",
       "  </thead>\n",
       "  <tbody>\n",
       "    <tr>\n",
       "      <th>0</th>\n",
       "      <td>Preceded byAnil Kumble</td>\n",
       "      <td>Indian Awardees of Wisden Cricketer of the Yea...</td>\n",
       "      <td>Succeeded byRahul Dravid</td>\n",
       "    </tr>\n",
       "  </tbody>\n",
       "</table>\n",
       "</div>"
      ],
      "text/plain": [
       "  Awards and achievements                          Awards and achievements.1  \\\n",
       "0  Preceded byAnil Kumble  Indian Awardees of Wisden Cricketer of the Yea...   \n",
       "\n",
       "  Awards and achievements.2  \n",
       "0  Succeeded byRahul Dravid  "
      ]
     },
     "execution_count": 43,
     "metadata": {},
     "output_type": "execute_result"
    }
   ],
   "source": [
    "df=pd.read_html(str(all_tables))\n",
    "# convert list to dataframe\n",
    "pd.DataFrame(df[6])"
   ]
  },
  {
   "cell_type": "code",
   "execution_count": 44,
   "metadata": {},
   "outputs": [],
   "source": [
    "import pyttsx3\n",
    "\n",
    "engine = pyttsx3.init('sapi5')\n",
    "voices = engine.getProperty('voices')\n",
    "engine.setProperty('voices',voices[0].id)\n",
    "\n",
    "# text to speech\n",
    "def speak(text):\n",
    "    engine.say(text)\n",
    "    print(text)\n",
    "    engine.runAndWait()"
   ]
  },
  {
   "cell_type": "code",
   "execution_count": 47,
   "metadata": {},
   "outputs": [
    {
     "data": {
      "text/plain": [
       "\"Tendulkar's record as captain\""
      ]
     },
     "execution_count": 47,
     "metadata": {},
     "output_type": "execute_result"
    }
   ],
   "source": [
    "table_heading = df[0].columns[0]\n",
    "table_heading"
   ]
  },
  {
   "cell_type": "code",
   "execution_count": 48,
   "metadata": {},
   "outputs": [],
   "source": [
    "col_names = list(df[0].iloc[0,:])"
   ]
  },
  {
   "cell_type": "code",
   "execution_count": 49,
   "metadata": {},
   "outputs": [],
   "source": [
    "df[0].columns = col_names"
   ]
  },
  {
   "cell_type": "code",
   "execution_count": 50,
   "metadata": {},
   "outputs": [
    {
     "data": {
      "text/html": [
       "<div>\n",
       "<style scoped>\n",
       "    .dataframe tbody tr th:only-of-type {\n",
       "        vertical-align: middle;\n",
       "    }\n",
       "\n",
       "    .dataframe tbody tr th {\n",
       "        vertical-align: top;\n",
       "    }\n",
       "\n",
       "    .dataframe thead th {\n",
       "        text-align: right;\n",
       "    }\n",
       "</style>\n",
       "<table border=\"1\" class=\"dataframe\">\n",
       "  <thead>\n",
       "    <tr style=\"text-align: right;\">\n",
       "      <th></th>\n",
       "      <th>NaN</th>\n",
       "      <th>Matches</th>\n",
       "      <th>Won</th>\n",
       "      <th>Lost</th>\n",
       "      <th>Drawn</th>\n",
       "      <th>Tied</th>\n",
       "      <th>No result</th>\n",
       "      <th>Win %</th>\n",
       "    </tr>\n",
       "  </thead>\n",
       "  <tbody>\n",
       "    <tr>\n",
       "      <th>1</th>\n",
       "      <td>Test[108]</td>\n",
       "      <td>25</td>\n",
       "      <td>4</td>\n",
       "      <td>9</td>\n",
       "      <td>12</td>\n",
       "      <td>0</td>\n",
       "      <td>–</td>\n",
       "      <td>16%</td>\n",
       "    </tr>\n",
       "    <tr>\n",
       "      <th>2</th>\n",
       "      <td>ODI[109]</td>\n",
       "      <td>73</td>\n",
       "      <td>23</td>\n",
       "      <td>43</td>\n",
       "      <td>–</td>\n",
       "      <td>2</td>\n",
       "      <td>6</td>\n",
       "      <td>31.50%</td>\n",
       "    </tr>\n",
       "  </tbody>\n",
       "</table>\n",
       "</div>"
      ],
      "text/plain": [
       "         NaN Matches Won Lost Drawn Tied No result   Win %\n",
       "1  Test[108]      25   4    9    12    0         –     16%\n",
       "2   ODI[109]      73  23   43     –    2         6  31.50%"
      ]
     },
     "execution_count": 50,
     "metadata": {},
     "output_type": "execute_result"
    }
   ],
   "source": [
    "df[0] = df[0].iloc[1:,:]\n",
    "df[0]"
   ]
  },
  {
   "cell_type": "code",
   "execution_count": 59,
   "metadata": {},
   "outputs": [
    {
     "name": "stdout",
     "output_type": "stream",
     "text": [
      "Tendulkar's record as captain\n",
      "[{\"nan\" \"Test[108]\",\"Matches\" \"25\",\"Won\" \"4\",\"Lost\" \"9\",\"Drawn\" \"12\",\"Tied\" \"0\",\"No result\" \"\\u2013\",\"Win\\u00a0%\" \"16%\"},{\"nan\" \"ODI[109]\",\"Matches\" \"73\",\"Won\" \"23\",\"Lost\" \"43\",\"Drawn\" \"\\u2013\",\"Tied\" \"2\",\"No result\" \"6\",\"Win\\u00a0%\" \"31.50%\"}]\n"
     ]
    }
   ],
   "source": [
    "speak(table_heading)\n",
    "speak(str(df[0].head().to_json(orient=\"records\")).replace(':',\" \"))"
   ]
  },
  {
   "cell_type": "code",
   "execution_count": null,
   "metadata": {},
   "outputs": [],
   "source": []
  }
 ],
 "metadata": {
  "interpreter": {
   "hash": "14741e67d7ddabe2a2e4877f5ee3c348dccffe3a60c1557d5dcb667e07b625bd"
  },
  "kernelspec": {
   "display_name": "Python 3 (ipykernel)",
   "language": "python",
   "name": "python3"
  },
  "language_info": {
   "codemirror_mode": {
    "name": "ipython",
    "version": 3
   },
   "file_extension": ".py",
   "mimetype": "text/x-python",
   "name": "python",
   "nbconvert_exporter": "python",
   "pygments_lexer": "ipython3",
   "version": "3.8.10"
  }
 },
 "nbformat": 4,
 "nbformat_minor": 2
}
