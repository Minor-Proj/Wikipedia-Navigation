{
 "cells": [
  {
   "cell_type": "code",
   "execution_count": 1,
   "id": "d8356a27",
   "metadata": {},
   "outputs": [],
   "source": [
    "from selenium import webdriver\n",
    "from selenium.webdriver.chrome.service import Service\n",
    "from webdriver_manager.chrome import ChromeDriverManager\n",
    "from selenium.webdriver.common.by import By\n",
    "from selenium.webdriver.common.keys import Keys\n",
    "# used for locating \n",
    "from selenium.webdriver.common.action_chains import ActionChains"
   ]
  },
  {
   "cell_type": "code",
   "execution_count": 2,
   "id": "d484e4a2",
   "metadata": {},
   "outputs": [],
   "source": [
    "from bs4 import BeautifulSoup"
   ]
  },
  {
   "cell_type": "code",
   "execution_count": 3,
   "id": "95699664",
   "metadata": {},
   "outputs": [
    {
     "name": "stderr",
     "output_type": "stream",
     "text": [
      "[WDM] - \n",
      "\n",
      "[WDM] - ====== WebDriver manager ======\n",
      "[WDM] - Current google-chrome version is 95.0.4638\n",
      "[WDM] - Get LATEST driver version for 95.0.4638\n",
      "[WDM] - Driver [C:\\Users\\Acer\\.wdm\\drivers\\chromedriver\\win32\\95.0.4638.17\\chromedriver.exe] found in cache\n"
     ]
    }
   ],
   "source": [
    "\n",
    "s=Service(ChromeDriverManager().install())\n",
    "driver = webdriver.Chrome(service=s)\n",
    "# driver.maximize_window()\n",
    "#driver.implicitly_wait(20) # gives an implicit wait for 20 seconds"
   ]
  },
  {
   "cell_type": "code",
   "execution_count": null,
   "id": "0742d710",
   "metadata": {},
   "outputs": [],
   "source": []
  },
  {
   "cell_type": "code",
   "execution_count": 4,
   "id": "ea644d22",
   "metadata": {},
   "outputs": [],
   "source": [
    "driver.get(\"https://www.wikipedia.org\")"
   ]
  },
  {
   "cell_type": "code",
   "execution_count": 5,
   "id": "cabaeff1",
   "metadata": {},
   "outputs": [
    {
     "name": "stderr",
     "output_type": "stream",
     "text": [
      "C:\\Users\\Acer\\AppData\\Local\\Temp/ipykernel_4260/825729065.py:1: DeprecationWarning: find_element_by_* commands are deprecated. Please use find_element() instead\n",
      "  search_bar = driver.find_element_by_id(\"searchInput\")\n"
     ]
    }
   ],
   "source": [
    "search_bar = driver.find_element_by_id(\"searchInput\")"
   ]
  },
  {
   "cell_type": "code",
   "execution_count": 6,
   "id": "ebe4a57e",
   "metadata": {},
   "outputs": [],
   "source": [
    "search_bar.clear()\n",
    "search_bar.send_keys(\"python\")\n",
    "search_bar.send_keys(Keys.RETURN)"
   ]
  },
  {
   "cell_type": "code",
   "execution_count": null,
   "id": "524f62f4",
   "metadata": {},
   "outputs": [],
   "source": []
  },
  {
   "cell_type": "code",
   "execution_count": 7,
   "id": "a9c62d6d",
   "metadata": {},
   "outputs": [
    {
     "data": {
      "text/plain": [
       "'Python - Wikipedia'"
      ]
     },
     "execution_count": 7,
     "metadata": {},
     "output_type": "execute_result"
    }
   ],
   "source": [
    "\n",
    "driver.title"
   ]
  },
  {
   "cell_type": "markdown",
   "id": "ca58e5bf",
   "metadata": {},
   "source": [
    "#### ONLINE HELP AND OTHER(Google)"
   ]
  },
  {
   "cell_type": "code",
   "execution_count": 8,
   "id": "f818e35e",
   "metadata": {},
   "outputs": [],
   "source": [
    "\n",
    "driver2 = webdriver.Chrome(service=s)"
   ]
  },
  {
   "cell_type": "code",
   "execution_count": 9,
   "id": "8f91be54",
   "metadata": {},
   "outputs": [],
   "source": [
    "driver2.get(\"http://www.google.com/search?\")"
   ]
  },
  {
   "cell_type": "code",
   "execution_count": 10,
   "id": "0081d230",
   "metadata": {},
   "outputs": [
    {
     "name": "stderr",
     "output_type": "stream",
     "text": [
      "C:\\Users\\Acer\\AppData\\Local\\Temp/ipykernel_4260/1452967229.py:1: DeprecationWarning: find_element_by_* commands are deprecated. Please use find_element() instead\n",
      "  google_search_bar = driver2.find_element_by_name(\"q\")\n"
     ]
    }
   ],
   "source": [
    "google_search_bar = driver2.find_element_by_name(\"q\")"
   ]
  },
  {
   "cell_type": "code",
   "execution_count": 11,
   "id": "f8ed58a7",
   "metadata": {},
   "outputs": [],
   "source": [
    "google_search_bar.clear()\n",
    "google_search_bar.send_keys(\"current affairs\")\n",
    "google_search_bar.send_keys(Keys.RETURN)"
   ]
  },
  {
   "cell_type": "code",
   "execution_count": null,
   "id": "c56eacd0",
   "metadata": {},
   "outputs": [],
   "source": []
  },
  {
   "cell_type": "markdown",
   "id": "b93d91ac",
   "metadata": {},
   "source": [
    "### DICTIONARY SUPPORT"
   ]
  },
  {
   "cell_type": "code",
   "execution_count": 12,
   "id": "a2af3fce",
   "metadata": {},
   "outputs": [],
   "source": [
    "driver3 =webdriver.Chrome(service=s)"
   ]
  },
  {
   "cell_type": "code",
   "execution_count": 13,
   "id": "cac7ded1",
   "metadata": {},
   "outputs": [
    {
     "name": "stdout",
     "output_type": "stream",
     "text": [
      "intimate\n"
     ]
    }
   ],
   "source": [
    "word = input(\"\")"
   ]
  },
  {
   "cell_type": "code",
   "execution_count": 14,
   "id": "e10c207d",
   "metadata": {},
   "outputs": [],
   "source": [
    "url=\"https://api.dictionaryapi.dev/api/v2/entries/en/\"\n",
    "link=url+word"
   ]
  },
  {
   "cell_type": "code",
   "execution_count": 15,
   "id": "82a2bcf7",
   "metadata": {},
   "outputs": [],
   "source": [
    "driver3.get(link)"
   ]
  },
  {
   "cell_type": "code",
   "execution_count": 16,
   "id": "31528e1b",
   "metadata": {},
   "outputs": [
    {
     "name": "stdout",
     "output_type": "stream",
     "text": [
      "https://mashape-community-urban-dictionary.p.rapidapi.com/define\n"
     ]
    }
   ],
   "source": []
  },
  {
   "cell_type": "markdown",
   "id": "ef4c7ba5",
   "metadata": {},
   "source": [
    "# NEWS SEARCH"
   ]
  },
  {
   "cell_type": "code",
   "execution_count": 16,
   "id": "de1e5ae0",
   "metadata": {},
   "outputs": [],
   "source": [
    "driver4=webdriver.Chrome(service=s)\n"
   ]
  },
  {
   "cell_type": "code",
   "execution_count": 17,
   "id": "68f815ac",
   "metadata": {},
   "outputs": [
    {
     "name": "stdout",
     "output_type": "stream",
     "text": [
      "enter news categorysports\n"
     ]
    }
   ],
   "source": [
    "category=input(\"enter news category\")"
   ]
  },
  {
   "cell_type": "code",
   "execution_count": 18,
   "id": "8446e1f9",
   "metadata": {},
   "outputs": [
    {
     "name": "stdout",
     "output_type": "stream",
     "text": [
      "enter your country codein\n"
     ]
    }
   ],
   "source": [
    "count_code=input(\"enter your country code\")"
   ]
  },
  {
   "cell_type": "code",
   "execution_count": 19,
   "id": "efa3cceb",
   "metadata": {},
   "outputs": [],
   "source": [
    "Base_URL=\"https://saurav.tech/NewsAPI/top-headlines/category/\"\n",
    "mid=\"/\"\n",
    "address=\".json\"\n",
    "link=Base_URL+category+mid+count_code+address"
   ]
  },
  {
   "cell_type": "code",
   "execution_count": 20,
   "id": "f88aa65b",
   "metadata": {},
   "outputs": [],
   "source": [
    "driver4.get(link)"
   ]
  },
  {
   "cell_type": "code",
   "execution_count": null,
   "id": "da1a7e75",
   "metadata": {},
   "outputs": [],
   "source": []
  }
 ],
 "metadata": {
  "kernelspec": {
   "display_name": "Python 3 (ipykernel)",
   "language": "python",
   "name": "python3"
  },
  "language_info": {
   "codemirror_mode": {
    "name": "ipython",
    "version": 3
   },
   "file_extension": ".py",
   "mimetype": "text/x-python",
   "name": "python",
   "nbconvert_exporter": "python",
   "pygments_lexer": "ipython3",
   "version": "3.10.0"
  }
 },
 "nbformat": 4,
 "nbformat_minor": 5
}
