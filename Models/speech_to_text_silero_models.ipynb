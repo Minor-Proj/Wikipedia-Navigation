{
 "cells": [
  {
   "cell_type": "markdown",
   "id": "7e37106f",
   "metadata": {},
   "source": [
    "## Install dependencies"
   ]
  },
  {
   "cell_type": "code",
   "execution_count": 1,
   "id": "1f19ba6b",
   "metadata": {},
   "outputs": [
    {
     "name": "stdout",
     "output_type": "stream",
     "text": [
      "Requirement already satisfied: torchaudio in c:\\users\\sukaran\\appdata\\local\\programs\\python\\python38\\lib\\site-packages (0.10.0)\n",
      "Requirement already satisfied: omegaconf in c:\\users\\sukaran\\appdata\\local\\programs\\python\\python38\\lib\\site-packages (2.1.1)\n",
      "Collecting soundfile\n",
      "  Using cached SoundFile-0.10.3.post1-py2.py3.cp26.cp27.cp32.cp33.cp34.cp35.cp36.pp27.pp32.pp33-none-win_amd64.whl (689 kB)\n",
      "Requirement already satisfied: torch==1.10.0 in c:\\users\\sukaran\\appdata\\local\\programs\\python\\python38\\lib\\site-packages (from torchaudio) (1.10.0)\n",
      "Requirement already satisfied: typing-extensions in c:\\users\\sukaran\\appdata\\local\\programs\\python\\python38\\lib\\site-packages (from torch==1.10.0->torchaudio) (4.0.0)\n",
      "Requirement already satisfied: antlr4-python3-runtime==4.8 in c:\\users\\sukaran\\appdata\\local\\programs\\python\\python38\\lib\\site-packages (from omegaconf) (4.8)\n",
      "Requirement already satisfied: PyYAML>=5.1.0 in c:\\users\\sukaran\\appdata\\local\\programs\\python\\python38\\lib\\site-packages (from omegaconf) (6.0)\n",
      "Requirement already satisfied: cffi>=1.0 in c:\\users\\sukaran\\appdata\\local\\programs\\python\\python38\\lib\\site-packages (from soundfile) (1.15.0)\n",
      "Requirement already satisfied: pycparser in c:\\users\\sukaran\\appdata\\local\\programs\\python\\python38\\lib\\site-packages (from cffi>=1.0->soundfile) (2.21)\n",
      "Installing collected packages: soundfile\n",
      "Successfully installed soundfile-0.10.3.post1\n"
     ]
    }
   ],
   "source": [
    "!pip install torchaudio omegaconf soundfile"
   ]
  },
  {
   "cell_type": "markdown",
   "id": "42380606",
   "metadata": {},
   "source": [
    "## Import Dependencies"
   ]
  },
  {
   "cell_type": "code",
   "execution_count": 2,
   "id": "29998292",
   "metadata": {},
   "outputs": [],
   "source": [
    "import torch\n",
    "import zipfile\n",
    "import torchaudio\n",
    "from glob import glob"
   ]
  },
  {
   "cell_type": "code",
   "execution_count": 3,
   "id": "3d441761",
   "metadata": {},
   "outputs": [
    {
     "name": "stderr",
     "output_type": "stream",
     "text": [
      "Using cache found in C:\\Users\\Sukaran/.cache\\torch\\hub\\snakers4_silero-models_master\n",
      "100.0%\n"
     ]
    }
   ],
   "source": [
    "device = torch.device('cpu')  # gpu also works, but our models are fast enough for CPU\n",
    "\n",
    "model, decoder, utils = torch.hub.load(repo_or_dir='snakers4/silero-models',model='silero_stt',language='en', # also available 'de', 'es'\n",
    "                                       device=device)"
   ]
  },
  {
   "cell_type": "code",
   "execution_count": 4,
   "id": "5122b245",
   "metadata": {},
   "outputs": [],
   "source": [
    "(read_batch, split_into_batches,\n",
    " read_audio, prepare_model_input) = utils  # see function signature for details"
   ]
  },
  {
   "cell_type": "markdown",
   "id": "8908ac8a",
   "metadata": {},
   "source": [
    "## sample file"
   ]
  },
  {
   "cell_type": "code",
   "execution_count": 5,
   "id": "c8f426aa",
   "metadata": {},
   "outputs": [
    {
     "name": "stderr",
     "output_type": "stream",
     "text": [
      "100.0%\n"
     ]
    }
   ],
   "source": [
    "# download a single file, any format compatible with TorchAudio (soundfile backend)\n",
    "torch.hub.download_url_to_file('https://opus-codec.org/static/examples/samples/speech_orig.wav',\n",
    "                               dst ='speech_orig.wav', progress=True)"
   ]
  },
  {
   "cell_type": "code",
   "execution_count": 22,
   "id": "0ce6491d",
   "metadata": {},
   "outputs": [],
   "source": [
    "import os\n",
    "if 'output.wav' in os.listdir():\n",
    "    os.remove('output.wav')"
   ]
  },
  {
   "cell_type": "markdown",
   "id": "61686a92",
   "metadata": {},
   "source": [
    "## taking audio as input"
   ]
  },
  {
   "cell_type": "code",
   "execution_count": 23,
   "id": "46d31477",
   "metadata": {},
   "outputs": [
    {
     "name": "stdout",
     "output_type": "stream",
     "text": [
      "* recording\n",
      "* done recording\n"
     ]
    }
   ],
   "source": [
    "import pyaudio\n",
    "import wave\n",
    "\n",
    "CHUNK = 1024\n",
    "FORMAT = pyaudio.paInt16\n",
    "CHANNELS = 2\n",
    "RATE = 44100\n",
    "RECORD_SECONDS = 5\n",
    "WAVE_OUTPUT_FILENAME = \"output.wav\"\n",
    "\n",
    "p = pyaudio.PyAudio()\n",
    "\n",
    "stream = p.open(format=FORMAT,\n",
    "                channels=CHANNELS,\n",
    "                rate=RATE,\n",
    "                input=True,\n",
    "                frames_per_buffer=CHUNK)\n",
    "\n",
    "print(\"* recording\")\n",
    "\n",
    "frames = []\n",
    "\n",
    "for i in range(0, int(RATE / CHUNK * RECORD_SECONDS)):\n",
    "    data = stream.read(CHUNK)\n",
    "    frames.append(data)\n",
    "\n",
    "print(\"* done recording\")\n",
    "\n",
    "stream.stop_stream()\n",
    "stream.close()\n",
    "p.terminate()\n",
    "\n",
    "wf = wave.open(WAVE_OUTPUT_FILENAME, 'wb')\n",
    "wf.setnchannels(CHANNELS)\n",
    "wf.setsampwidth(p.get_sample_size(FORMAT))\n",
    "wf.setframerate(RATE)\n",
    "wf.writeframes(b''.join(frames))\n",
    "wf.close()"
   ]
  },
  {
   "cell_type": "code",
   "execution_count": 24,
   "id": "c3115234",
   "metadata": {},
   "outputs": [],
   "source": [
    "test_files = glob('output.wav')\n",
    "batches = split_into_batches(test_files, batch_size=10)\n",
    "input = prepare_model_input(read_batch(batches[0]),\n",
    "                            device=device)"
   ]
  },
  {
   "cell_type": "code",
   "execution_count": 25,
   "id": "b5e8aa6b",
   "metadata": {},
   "outputs": [
    {
     "name": "stdout",
     "output_type": "stream",
     "text": [
      "such inintdocurvwikiedia\n"
     ]
    }
   ],
   "source": [
    "output = model(input)\n",
    "for example in output:\n",
    "    print(decoder(example.cpu()))"
   ]
  },
  {
   "cell_type": "code",
   "execution_count": null,
   "id": "a60e2d14",
   "metadata": {},
   "outputs": [],
   "source": []
  }
 ],
 "metadata": {
  "kernelspec": {
   "display_name": "Python 3 (ipykernel)",
   "language": "python",
   "name": "python3"
  },
  "language_info": {
   "codemirror_mode": {
    "name": "ipython",
    "version": 3
   },
   "file_extension": ".py",
   "mimetype": "text/x-python",
   "name": "python",
   "nbconvert_exporter": "python",
   "pygments_lexer": "ipython3",
   "version": "3.8.10"
  }
 },
 "nbformat": 4,
 "nbformat_minor": 5
}
